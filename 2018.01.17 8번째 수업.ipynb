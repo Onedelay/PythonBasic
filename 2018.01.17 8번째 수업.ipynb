{
 "cells": [
  {
   "cell_type": "code",
   "execution_count": null,
   "metadata": {
    "collapsed": true
   },
   "outputs": [],
   "source": [
    "# 프로그래밍 실습 5\n",
    "\n",
    "# 1. 리스트 입력과 연산\n",
    "# 가. 중복되는 데이터 없이 정수를 입력 받아 리스트로 만든 다음, 리스트의 원소 중 홀수의 합과 짝수의 합 출력\n",
    "\n",
    "def makeNumList():\n",
    "\n",
    "    numList = []\n",
    "\n",
    "    while True:\n",
    "        num = int(input('정수 입력(종료시는 999) : '))\n",
    "        if num == 999:\n",
    "            break\n",
    "        #if numList.count(num) == 0:\n",
    "        numList.append(num)\n",
    "\n",
    "    print('생성된 리스트 : ',numList)\n",
    "    \n",
    "    return numList\n",
    "\n",
    "numList = makeNumList()\n",
    "\n",
    "oddSum = 0\n",
    "evenSum = 0\n",
    "for i in range(len(numList)):\n",
    "    if numList[i] % 2 == 1:\n",
    "        oddSum += numList[i]\n",
    "    else:\n",
    "        evenSum += numList[i]\n",
    "        \n",
    "print('홀수의 합 :',oddSum)\n",
    "print('짝수의 합 :',evenSum)\n"
   ]
  },
  {
   "cell_type": "code",
   "execution_count": 17,
   "metadata": {},
   "outputs": [
    {
     "name": "stdout",
     "output_type": "stream",
     "text": [
      "정수 입력(종료시는 999) : 1\n",
      "정수 입력(종료시는 999) : 2\n",
      "정수 입력(종료시는 999) : 3\n",
      "정수 입력(종료시는 999) : 4\n",
      "정수 입력(종료시는 999) : 999\n",
      "생성된 리스트 :  [1, 2, 3, 4]\n",
      "인접한 두 수의 합 : 3 7 "
     ]
    }
   ],
   "source": [
    "# 나. 중복되는 데이터가 없이 정수를 입력 받아서 리스트로 만든 다음, 인접한 두 수 (첫 번째와 두 번째, 세 번째와 네 번째, …)의 합을 출력하는 프로그램을 작성하라.\n",
    "\n",
    "numList = makeNumList()\n",
    "\n",
    "print('인접한 두 수의 합 : ',end='')\n",
    "for i in range(0,(len(numList)+1)//2+1,2):\n",
    "    print(numList[i]+numList[i+1],end=' ')\n",
    "if len(numList) % 2 == 1:\n",
    "    print(numList[-1])"
   ]
  },
  {
   "cell_type": "code",
   "execution_count": 25,
   "metadata": {},
   "outputs": [
    {
     "name": "stdout",
     "output_type": "stream",
     "text": [
      "정수 입력(종료시는 999) : 1\n",
      "정수 입력(종료시는 999) : 3\n",
      "정수 입력(종료시는 999) : 5\n",
      "정수 입력(종료시는 999) : 7\n",
      "정수 입력(종료시는 999) : 9\n",
      "정수 입력(종료시는 999) : 11\n",
      "정수 입력(종료시는 999) : 13\n",
      "정수 입력(종료시는 999) : 999\n",
      "생성된 리스트 :  [1, 3, 5, 7, 9, 11, 13]\n",
      "원소의 개수 :  7\n",
      "회전 단계 수 : 3\n",
      "원래 리스트 :  [1, 3, 5, 7, 9, 11, 13]\n",
      "회전 리스트 :  [9, 11, 13, 1, 3, 5, 7]\n"
     ]
    }
   ],
   "source": [
    "\"\"\"\n",
    "2. 회전 단계수 k를 입력으로 받아 리스트의 원소들을 k 단계만큼 오른쪽으로 회전시킨다.\n",
    "   회전 단계별로 리스트의 마지막 원소는 리스트의 가장 첫 번째 원소로 이동한다.\n",
    "   예를 들어, 리스트가 [1,2,3,4,5,6,7]이고, 회전 단계수가 k가 3이라고 하면\n",
    "   오른쪽으로 3단계 회전한 리스트 [5,6,7,1,2,3,4]를 출력한다.\n",
    "   \n",
    "   가. 원래 리스트와 동일한 크기의 추가 리스트를 사용하여 리스트의 원소를 k단계 회전시키는 프로그램을 작성하라.\n",
    "\"\"\"\n",
    "\n",
    "def rotateList(nList, k):\n",
    "    newList = []\n",
    "    for i in range(-k,k+1):\n",
    "        newList.append(nList[i])\n",
    "    return newList\n",
    "\n",
    "numList = makeNumList()\n",
    "print('원소의 개수 : ',len(numList))\n",
    "k = int(input('회전 단계 수 : '))\n",
    "newList = rotateList(numList,k)\n",
    "print('원래 리스트 : ',numList)\n",
    "print('회전 리스트 : ',newList)\n"
   ]
  },
  {
   "cell_type": "code",
   "execution_count": 35,
   "metadata": {},
   "outputs": [
    {
     "name": "stdout",
     "output_type": "stream",
     "text": [
      "정수 입력(종료시는 999) : 1\n",
      "정수 입력(종료시는 999) : 2\n",
      "정수 입력(종료시는 999) : 3\n",
      "정수 입력(종료시는 999) : 4\n",
      "정수 입력(종료시는 999) : 5\n",
      "정수 입력(종료시는 999) : 6\n",
      "정수 입력(종료시는 999) : 999\n",
      "생성된 리스트 :  [1, 2, 3, 4, 5, 6]\n",
      "원소의 개수 :  6\n",
      "회전 단계 수 : 3\n",
      "[1, 2, 3, 4, 6, 5]\n",
      "[1, 2, 3, 6, 4, 5]\n",
      "[1, 2, 6, 3, 4, 5]\n",
      "[1, 6, 2, 3, 4, 5]\n",
      "[6, 1, 2, 3, 4, 5]\n",
      "[6, 1, 2, 3, 5, 4]\n",
      "[6, 1, 2, 5, 3, 4]\n",
      "[6, 1, 5, 2, 3, 4]\n",
      "[6, 5, 1, 2, 3, 4]\n",
      "[5, 6, 1, 2, 3, 4]\n",
      "[5, 6, 1, 2, 4, 3]\n",
      "[5, 6, 1, 4, 2, 3]\n",
      "[5, 6, 4, 1, 2, 3]\n",
      "[5, 4, 6, 1, 2, 3]\n",
      "[4, 5, 6, 1, 2, 3]\n"
     ]
    }
   ],
   "source": [
    "numList = makeNumList()\n",
    "cnt = len(numList)\n",
    "print('원소의 개수 : ',cnt)\n",
    "k = int(input('회전 단계 수 : '))\n",
    "\n",
    "for i in range(cnt-1,cnt-k-1,-1):\n",
    "    for j in range(cnt-1,0,-1):\n",
    "        numList[j],numList[j-1] = numList[j-1],numList[j]\n",
    "        print(numList)"
   ]
  },
  {
   "cell_type": "code",
   "execution_count": 52,
   "metadata": {},
   "outputs": [
    {
     "name": "stdout",
     "output_type": "stream",
     "text": [
      "리스트 원소 개수 입력 : 10\n",
      "리스트 :  [17, 13, 7, 13, 10, 20, 11, 2, 6, 15]\n",
      "목표값 입력 : 20\n",
      "두 수의 합이 20인 원소 쌍\n",
      "2번째와 3번째 원소\n",
      "3번째와 4번째 원소\n"
     ]
    }
   ],
   "source": [
    "# 중복을 허용하고 순서가 없는 리스트에서 두 원소를 더한 합이 사용자로부터 입력 받은 목표값과 같은 것이 있으면, 두 원소가 각각 리스트의 몇 번째 원소인지 출력하는 프로그램 작성\n",
    "\n",
    "import random\n",
    "\n",
    "def makeRandomList(k):\n",
    "    numList = [random.randint(1,20) for i in range(k)]\n",
    "    print('리스트 : ',numList)\n",
    "    return numList\n",
    "\n",
    "def findSum(numList,aim):\n",
    "    print('두 수의 합이 %d인 원소 쌍'%aim)\n",
    "    cnt = len(numList)\n",
    "    for i in range(cnt):\n",
    "        for j in range(i+1,cnt):\n",
    "            #print(i,j)\n",
    "            if numList[i]+numList[j] == aim:\n",
    "                print('%d번째와 %d번째 원소'%(i+1,j+1))    \n",
    "\n",
    "k = int(input('리스트 원소 개수 입력 : '))\n",
    "numList = makeRandomList(k)\n",
    "#numList = [2,19,18,14,2,17,7,14,4,15]\n",
    "aim = int(input('목표값 입력 : '))\n",
    "findSum(numList,aim)\n"
   ]
  },
  {
   "cell_type": "code",
   "execution_count": 56,
   "metadata": {},
   "outputs": [
    {
     "name": "stdout",
     "output_type": "stream",
     "text": [
      "리스트 원소 개수 입력 : 10\n",
      "리스트 :  [7, 18, 1, 13, 2, 3, 6, 12, 14, 17]\n",
      "정렬된 리스트 :  [1, 2, 3, 6, 7, 12, 13, 14, 17, 18]\n",
      "중복이 제거된 리스트 :  [1, 2, 3, 6, 7, 12, 13, 14, 17, 18]\n",
      "목표값 입력 : 19\n",
      "두 수의 합이 19인 원소 쌍\n",
      "1번째와 10번째 원소\n",
      "2번째와 9번째 원소\n",
      "4번째와 7번째 원소\n",
      "5번째와 6번째 원소\n"
     ]
    }
   ],
   "source": [
    "def deduplication(numList):\n",
    "    newList = []\n",
    "    for i in range(len(numList)):\n",
    "        if newList.count(numList[i]) == 0:\n",
    "            newList.append(numList[i])\n",
    "    return newList\n",
    "\n",
    "def findSum2(numList,aim):\n",
    "    print('두 수의 합이 %d인 원소 쌍'%aim)\n",
    "    cnt = len(numList)\n",
    "    for i in range(cnt):\n",
    "        for j in range(i+1,cnt):\n",
    "            #print(i,j)\n",
    "            if numList[i]+numList[j] > aim:\n",
    "                break\n",
    "            if numList[i]+numList[j] == aim:\n",
    "                print('%d번째와 %d번째 원소'%(i+1,j+1)) \n",
    "\n",
    "k = int(input('리스트 원소 개수 입력 : '))\n",
    "numList = makeRandomList(k)\n",
    "numList.sort()\n",
    "print('정렬된 리스트 : ',numList)\n",
    "numList = deduplication(numList)\n",
    "print('중복이 제거된 리스트 : ',numList)\n",
    "\n",
    "aim = int(input('목표값 입력 : '))\n",
    "findSum2(numList,aim)"
   ]
  },
  {
   "cell_type": "code",
   "execution_count": 62,
   "metadata": {},
   "outputs": [
    {
     "name": "stdout",
     "output_type": "stream",
     "text": [
      "A 선택\n",
      "A : 보\n",
      "\n",
      "B 선택\n",
      "B : 가위\n",
      "B승\n"
     ]
    }
   ],
   "source": [
    "# 가위바위보 게임\n",
    "\n",
    "string = ['가위','바위','보']\n",
    "\n",
    "def winner(a,b):\n",
    "    if (a == 0 and b == 2) or (a == 1 and b == 0) or (a == 2 and b == 1):\n",
    "        return 1\n",
    "    elif (a == 2 and b == 0) or (a == 0 and b == 1) or (a == 1 and b == 2):\n",
    "        return 2\n",
    "    else:\n",
    "        return 3\n",
    "    \n",
    "\n",
    "print('A 선택')\n",
    "\n",
    "while True:\n",
    "    a = input('A : ')\n",
    "    if string.count(a) < 1:\n",
    "        print('가위, 바위, 보만 입력하세요.')\n",
    "    else:\n",
    "        a = string.index(a)\n",
    "        break\n",
    "\n",
    "print()\n",
    "\n",
    "print('B 선택')\n",
    "\n",
    "while True:\n",
    "    b = input('B : ')\n",
    "    if string.count(b) < 1:\n",
    "        print('가위, 바위, 보만 입력하세요.')\n",
    "    else:\n",
    "        b = string.index(b)\n",
    "        break\n",
    "    \n",
    "result = winner(a,b)\n",
    "if result == 1:\n",
    "    print('A승')\n",
    "elif result == 2:\n",
    "    print('B승')\n",
    "else:\n",
    "    print('무승부')"
   ]
  },
  {
   "cell_type": "code",
   "execution_count": 65,
   "metadata": {},
   "outputs": [
    {
     "name": "stdout",
     "output_type": "stream",
     "text": [
      "A 선택\n",
      "A : 보\n",
      "\n",
      "B 선택\n",
      "B : 보\n",
      "무승부\n"
     ]
    }
   ],
   "source": [
    "# 컴퓨터끼리 하는 가위바위보\n",
    "\n",
    "import random\n",
    "\n",
    "string = ['가위','바위','보']\n",
    "\n",
    "print('A 선택')\n",
    "a = random.choice(string)\n",
    "print('A : %s'%a)\n",
    "a = string.index(a)\n",
    "\n",
    "print()\n",
    "\n",
    "print('B 선택')\n",
    "b = random.choice(string)\n",
    "print('B : %s'%b)\n",
    "b = string.index(b)\n",
    "    \n",
    "result = winner(a,b)\n",
    "if result == 1:\n",
    "    print('A승')\n",
    "elif result == 2:\n",
    "    print('B승')\n",
    "else:\n",
    "    print('무승부')"
   ]
  },
  {
   "cell_type": "code",
   "execution_count": 68,
   "metadata": {},
   "outputs": [
    {
     "name": "stdout",
     "output_type": "stream",
     "text": [
      "A 선택\n",
      "A : 바위\n",
      "\n",
      "B 선택\n",
      "B : 가위\n",
      "A승\n"
     ]
    }
   ],
   "source": [
    "# 컴퓨터와 하는 가위바위보\n",
    "\n",
    "print('A 선택')\n",
    "\n",
    "while True:\n",
    "    a = input('A : ')\n",
    "    if string.count(a) < 1:\n",
    "        print('가위, 바위, 보만 입력하세요.')\n",
    "    else:\n",
    "        a = string.index(a)\n",
    "        break\n",
    "\n",
    "print()\n",
    "\n",
    "print('B 선택')\n",
    "b = random.choice(string)\n",
    "print('B : %s'%b)\n",
    "b = string.index(b)\n",
    "\n",
    "result = winner(a,b)\n",
    "if result == 1:\n",
    "    print('A승')\n",
    "elif result == 2:\n",
    "    print('B승')\n",
    "else:\n",
    "    print('무승부')"
   ]
  },
  {
   "cell_type": "code",
   "execution_count": 15,
   "metadata": {},
   "outputs": [
    {
     "name": "stdout",
     "output_type": "stream",
     "text": [
      "컴퓨터가 1부터 100 사이의 수 중 하나를 정했습니다.\n",
      "수를 입력하세요 : 50\n",
      "Down!\n",
      "\n",
      "수를 입력하세요 : 25\n",
      "Down!\n",
      "\n",
      "수를 입력하세요 : 26\n",
      "Down!\n",
      "\n",
      "수를 입력하세요 : 3\n"
     ]
    },
    {
     "ename": "KeyboardInterrupt",
     "evalue": "",
     "output_type": "error",
     "traceback": [
      "\u001b[1;31m---------------------------------------------------------------------------\u001b[0m",
      "\u001b[1;31mKeyboardInterrupt\u001b[0m                         Traceback (most recent call last)",
      "\u001b[1;32m~\\Anaconda3\\lib\\site-packages\\ipykernel\\kernelbase.py\u001b[0m in \u001b[0;36m_input_request\u001b[1;34m(self, prompt, ident, parent, password)\u001b[0m\n\u001b[0;32m    729\u001b[0m             \u001b[1;32mtry\u001b[0m\u001b[1;33m:\u001b[0m\u001b[1;33m\u001b[0m\u001b[0m\n\u001b[1;32m--> 730\u001b[1;33m                 \u001b[0mident\u001b[0m\u001b[1;33m,\u001b[0m \u001b[0mreply\u001b[0m \u001b[1;33m=\u001b[0m \u001b[0mself\u001b[0m\u001b[1;33m.\u001b[0m\u001b[0msession\u001b[0m\u001b[1;33m.\u001b[0m\u001b[0mrecv\u001b[0m\u001b[1;33m(\u001b[0m\u001b[0mself\u001b[0m\u001b[1;33m.\u001b[0m\u001b[0mstdin_socket\u001b[0m\u001b[1;33m,\u001b[0m \u001b[1;36m0\u001b[0m\u001b[1;33m)\u001b[0m\u001b[1;33m\u001b[0m\u001b[0m\n\u001b[0m\u001b[0;32m    731\u001b[0m             \u001b[1;32mexcept\u001b[0m \u001b[0mException\u001b[0m\u001b[1;33m:\u001b[0m\u001b[1;33m\u001b[0m\u001b[0m\n",
      "\u001b[1;32m~\\Anaconda3\\lib\\site-packages\\jupyter_client\\session.py\u001b[0m in \u001b[0;36mrecv\u001b[1;34m(self, socket, mode, content, copy)\u001b[0m\n\u001b[0;32m    795\u001b[0m         \u001b[1;32mtry\u001b[0m\u001b[1;33m:\u001b[0m\u001b[1;33m\u001b[0m\u001b[0m\n\u001b[1;32m--> 796\u001b[1;33m             \u001b[0mmsg_list\u001b[0m \u001b[1;33m=\u001b[0m \u001b[0msocket\u001b[0m\u001b[1;33m.\u001b[0m\u001b[0mrecv_multipart\u001b[0m\u001b[1;33m(\u001b[0m\u001b[0mmode\u001b[0m\u001b[1;33m,\u001b[0m \u001b[0mcopy\u001b[0m\u001b[1;33m=\u001b[0m\u001b[0mcopy\u001b[0m\u001b[1;33m)\u001b[0m\u001b[1;33m\u001b[0m\u001b[0m\n\u001b[0m\u001b[0;32m    797\u001b[0m         \u001b[1;32mexcept\u001b[0m \u001b[0mzmq\u001b[0m\u001b[1;33m.\u001b[0m\u001b[0mZMQError\u001b[0m \u001b[1;32mas\u001b[0m \u001b[0me\u001b[0m\u001b[1;33m:\u001b[0m\u001b[1;33m\u001b[0m\u001b[0m\n",
      "\u001b[1;32m~\\Anaconda3\\lib\\site-packages\\zmq\\sugar\\socket.py\u001b[0m in \u001b[0;36mrecv_multipart\u001b[1;34m(self, flags, copy, track)\u001b[0m\n\u001b[0;32m    394\u001b[0m         \"\"\"\n\u001b[1;32m--> 395\u001b[1;33m         \u001b[0mparts\u001b[0m \u001b[1;33m=\u001b[0m \u001b[1;33m[\u001b[0m\u001b[0mself\u001b[0m\u001b[1;33m.\u001b[0m\u001b[0mrecv\u001b[0m\u001b[1;33m(\u001b[0m\u001b[0mflags\u001b[0m\u001b[1;33m,\u001b[0m \u001b[0mcopy\u001b[0m\u001b[1;33m=\u001b[0m\u001b[0mcopy\u001b[0m\u001b[1;33m,\u001b[0m \u001b[0mtrack\u001b[0m\u001b[1;33m=\u001b[0m\u001b[0mtrack\u001b[0m\u001b[1;33m)\u001b[0m\u001b[1;33m]\u001b[0m\u001b[1;33m\u001b[0m\u001b[0m\n\u001b[0m\u001b[0;32m    396\u001b[0m         \u001b[1;31m# have first part already, only loop while more to receive\u001b[0m\u001b[1;33m\u001b[0m\u001b[1;33m\u001b[0m\u001b[0m\n",
      "\u001b[1;32mzmq/backend/cython/socket.pyx\u001b[0m in \u001b[0;36mzmq.backend.cython.socket.Socket.recv (zmq\\backend\\cython\\socket.c:7683)\u001b[1;34m()\u001b[0m\n",
      "\u001b[1;32mzmq/backend/cython/socket.pyx\u001b[0m in \u001b[0;36mzmq.backend.cython.socket.Socket.recv (zmq\\backend\\cython\\socket.c:7460)\u001b[1;34m()\u001b[0m\n",
      "\u001b[1;32mzmq/backend/cython/socket.pyx\u001b[0m in \u001b[0;36mzmq.backend.cython.socket._recv_copy (zmq\\backend\\cython\\socket.c:2344)\u001b[1;34m()\u001b[0m\n",
      "\u001b[1;32m~\\Anaconda3\\lib\\site-packages\\zmq\\backend\\cython\\checkrc.pxd\u001b[0m in \u001b[0;36mzmq.backend.cython.checkrc._check_rc (zmq\\backend\\cython\\socket.c:9621)\u001b[1;34m()\u001b[0m\n",
      "\u001b[1;31mKeyboardInterrupt\u001b[0m: ",
      "\nDuring handling of the above exception, another exception occurred:\n",
      "\u001b[1;31mKeyboardInterrupt\u001b[0m                         Traceback (most recent call last)",
      "\u001b[1;32m<ipython-input-15-d3b20b06565a>\u001b[0m in \u001b[0;36m<module>\u001b[1;34m()\u001b[0m\n\u001b[0;32m     12\u001b[0m \u001b[1;33m\u001b[0m\u001b[0m\n\u001b[0;32m     13\u001b[0m \u001b[1;32mwhile\u001b[0m \u001b[0muserInput\u001b[0m \u001b[1;33m!=\u001b[0m \u001b[0mN\u001b[0m\u001b[1;33m:\u001b[0m\u001b[1;33m\u001b[0m\u001b[0m\n\u001b[1;32m---> 14\u001b[1;33m     \u001b[0muserInput\u001b[0m \u001b[1;33m=\u001b[0m \u001b[0mint\u001b[0m\u001b[1;33m(\u001b[0m\u001b[0minput\u001b[0m\u001b[1;33m(\u001b[0m\u001b[1;34m'수를 입력하세요 : '\u001b[0m\u001b[1;33m)\u001b[0m\u001b[1;33m)\u001b[0m\u001b[1;33m\u001b[0m\u001b[0m\n\u001b[0m\u001b[0;32m     15\u001b[0m     \u001b[1;32mif\u001b[0m \u001b[0muserInput\u001b[0m \u001b[1;33m<\u001b[0m \u001b[0mN\u001b[0m\u001b[1;33m:\u001b[0m\u001b[1;33m\u001b[0m\u001b[0m\n\u001b[0;32m     16\u001b[0m         \u001b[0mprint\u001b[0m\u001b[1;33m(\u001b[0m\u001b[1;34m'Up!'\u001b[0m\u001b[1;33m)\u001b[0m\u001b[1;33m\u001b[0m\u001b[0m\n",
      "\u001b[1;32m~\\Anaconda3\\lib\\site-packages\\ipykernel\\kernelbase.py\u001b[0m in \u001b[0;36mraw_input\u001b[1;34m(self, prompt)\u001b[0m\n\u001b[0;32m    703\u001b[0m             \u001b[0mself\u001b[0m\u001b[1;33m.\u001b[0m\u001b[0m_parent_ident\u001b[0m\u001b[1;33m,\u001b[0m\u001b[1;33m\u001b[0m\u001b[0m\n\u001b[0;32m    704\u001b[0m             \u001b[0mself\u001b[0m\u001b[1;33m.\u001b[0m\u001b[0m_parent_header\u001b[0m\u001b[1;33m,\u001b[0m\u001b[1;33m\u001b[0m\u001b[0m\n\u001b[1;32m--> 705\u001b[1;33m             \u001b[0mpassword\u001b[0m\u001b[1;33m=\u001b[0m\u001b[1;32mFalse\u001b[0m\u001b[1;33m,\u001b[0m\u001b[1;33m\u001b[0m\u001b[0m\n\u001b[0m\u001b[0;32m    706\u001b[0m         )\n\u001b[0;32m    707\u001b[0m \u001b[1;33m\u001b[0m\u001b[0m\n",
      "\u001b[1;32m~\\Anaconda3\\lib\\site-packages\\ipykernel\\kernelbase.py\u001b[0m in \u001b[0;36m_input_request\u001b[1;34m(self, prompt, ident, parent, password)\u001b[0m\n\u001b[0;32m    733\u001b[0m             \u001b[1;32mexcept\u001b[0m \u001b[0mKeyboardInterrupt\u001b[0m\u001b[1;33m:\u001b[0m\u001b[1;33m\u001b[0m\u001b[0m\n\u001b[0;32m    734\u001b[0m                 \u001b[1;31m# re-raise KeyboardInterrupt, to truncate traceback\u001b[0m\u001b[1;33m\u001b[0m\u001b[1;33m\u001b[0m\u001b[0m\n\u001b[1;32m--> 735\u001b[1;33m                 \u001b[1;32mraise\u001b[0m \u001b[0mKeyboardInterrupt\u001b[0m\u001b[1;33m\u001b[0m\u001b[0m\n\u001b[0m\u001b[0;32m    736\u001b[0m             \u001b[1;32melse\u001b[0m\u001b[1;33m:\u001b[0m\u001b[1;33m\u001b[0m\u001b[0m\n\u001b[0;32m    737\u001b[0m                 \u001b[1;32mbreak\u001b[0m\u001b[1;33m\u001b[0m\u001b[0m\n",
      "\u001b[1;31mKeyboardInterrupt\u001b[0m: "
     ]
    }
   ],
   "source": [
    "##### Up-Down 게임\n",
    "\n",
    "import random \n",
    "\n",
    "N = random.randint(1,100)\n",
    "print('컴퓨터가 1부터 100 사이의 수 중 하나를 정했습니다.')\n",
    "\n",
    "userInput = 0\n",
    "start = 0\n",
    "end = 101\n",
    "  \n",
    "\n",
    "while userInput != N:\n",
    "    userInput = int(input('수를 입력하세요 : '))\n",
    "    if userInput < N:\n",
    "        print('Up!')\n",
    "        end = userInput\n",
    "    else:\n",
    "        print('Down!')\n",
    "        start = userInput\n",
    "    \n",
    "    if userInput > start and userInput < end:\n",
    "        if userInput > start:\n",
    "            print('더 큰 값을 입력하세요.')\n",
    "        if userInput < end:\n",
    "            print('더 작은 값을 입력하세요.')\n",
    "        \n",
    "    print()\n",
    "    \n",
    "        \n",
    "print('정답입니다!')"
   ]
  }
 ],
 "metadata": {
  "kernelspec": {
   "display_name": "Python 3",
   "language": "python",
   "name": "python3"
  },
  "language_info": {
   "codemirror_mode": {
    "name": "ipython",
    "version": 3
   },
   "file_extension": ".py",
   "mimetype": "text/x-python",
   "name": "python",
   "nbconvert_exporter": "python",
   "pygments_lexer": "ipython3",
   "version": "3.6.3"
  }
 },
 "nbformat": 4,
 "nbformat_minor": 2
}
