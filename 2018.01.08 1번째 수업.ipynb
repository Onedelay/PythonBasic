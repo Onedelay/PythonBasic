{
 "cells": [
  {
   "cell_type": "markdown",
   "metadata": {},
   "source": [
    "### < 2018.01.08 1번째 수업 >"
   ]
  },
  {
   "cell_type": "code",
   "execution_count": 2,
   "metadata": {},
   "outputs": [
    {
     "name": "stdout",
     "output_type": "stream",
     "text": [
      "여러개의 정수 입력 : 1 2 3 10 9 8\n",
      "[1, 2, 3, 10, 9, 8]\n",
      "[1, 2, 3, 8, 9, 10]\n"
     ]
    }
   ],
   "source": [
    "# python은 swap 함수 구현 필요 없이 바로 바꿀 수 있다.\n",
    "# a, b = b, a\n",
    "\n",
    "# 버블정렬\n",
    "\n",
    "arr = [int(a) for a in input('여러개의 정수 입력 : ').split()]\n",
    "\n",
    "print(arr)\n",
    "\n",
    "for i in range(len(arr)-1,0,-1):\n",
    "  for j in range(i):\n",
    "    if arr[j] > arr[j+1]:\n",
    "      arr[j], arr[j+1] = arr[j+1],arr[j]\n",
    "\n",
    "print(arr)"
   ]
  },
  {
   "cell_type": "code",
   "execution_count": 6,
   "metadata": {},
   "outputs": [
    {
     "name": "stdout",
     "output_type": "stream",
     "text": [
      "여러개의 정수 입력 : 4 8 1 10 9\n",
      "[4, 8, 1, 10, 9]\n",
      "[1, 4, 8, 9, 10]\n"
     ]
    }
   ],
   "source": [
    "# 선택정렬\n",
    "\n",
    "arr = [int(a) for a in input('여러개의 정수 입력 : ').split()]\n",
    "\n",
    "print(arr)\n",
    "\n",
    "for i in range(len(arr)-1):\n",
    "    tmp = i\n",
    "    for j in range(i+1,len(arr)):\n",
    "        if arr[tmp] > arr[j]:\n",
    "            tmp = j\n",
    "    arr[tmp],arr[i]=arr[i],arr[tmp]\n",
    "\n",
    "print(arr)"
   ]
  },
  {
   "cell_type": "code",
   "execution_count": 11,
   "metadata": {},
   "outputs": [
    {
     "name": "stdout",
     "output_type": "stream",
     "text": [
      "a=1\n",
      "b=2\n",
      "c=3\n",
      "1 2 3\n",
      "1 2 3\n"
     ]
    }
   ],
   "source": [
    "# 세 정수 정렬\n",
    "\n",
    "a = int(input('a='))\n",
    "b = int(input('b='))\n",
    "c = int(input('c='))\n",
    "\n",
    "print(a,b,c)\n",
    "\n",
    "if a > b:\n",
    "    a,b = b,a\n",
    "if b > c:\n",
    "    b,c = c,b\n",
    "if a > b:\n",
    "    a,b = b,a\n",
    "\n",
    "print(a,b,c)"
   ]
  },
  {
   "cell_type": "code",
   "execution_count": 12,
   "metadata": {},
   "outputs": [
    {
     "name": "stdout",
     "output_type": "stream",
     "text": [
      "a=4\n",
      "b=3\n",
      "c=2\n",
      "d=1\n",
      "4 3 2 1\n",
      "1 2 3 4\n"
     ]
    }
   ],
   "source": [
    "# 네 정수 정렬\n",
    "\n",
    "a = int(input('a='))\n",
    "b = int(input('b='))\n",
    "c = int(input('c='))\n",
    "d = int(input('d='))\n",
    "\n",
    "print(a,b,c,d)\n",
    "\n",
    "if a > b:\n",
    "    a,b = b,a\n",
    "if b > c:\n",
    "    b,c = c,b\n",
    "if c > d:\n",
    "    c,d = d,c\n",
    "if a > b:\n",
    "    a,b = b,a\n",
    "if b > c:\n",
    "    b,c = c,b\n",
    "if a > b:\n",
    "    a,b = b,a\n",
    "\n",
    "print(a,b,c,d)"
   ]
  },
  {
   "cell_type": "code",
   "execution_count": 7,
   "metadata": {},
   "outputs": [
    {
     "name": "stdout",
     "output_type": "stream",
     "text": [
      "자연수 입력 :0\n",
      "0 은(는) 자연수가 아닙니다.\n",
      "자연수 입력 :10\n",
      "10 의 모든 약수 : [1, 2, 5, 10]\n"
     ]
    }
   ],
   "source": [
    "# 약수 구하기\n",
    "\n",
    "num = int(input('자연수 입력 :'))\n",
    "while num < 1:\n",
    "    print(num,'은(는) 자연수가 아닙니다.')\n",
    "    num = int(input('자연수 입력 :'))\n",
    "        \n",
    "divisor = [a for a in range(1,num//2+1) if num % a == 0]\n",
    "divisor.append(num)\n",
    "print(num,'의 모든 약수 :',divisor)"
   ]
  },
  {
   "cell_type": "markdown",
   "metadata": {},
   "source": [
    "\n",
    "알고리즘을 생각할 때 필요한 것\n",
    "---\n",
    "\n",
    "1. 변수가 몇개 필요한가\n",
    "2. 종료 조건(가장 중요, 무한 루프에 빠질 수 있음)\n",
    "\n",
    "\n",
    ">모든 for문은 while문으로 나타낼 수 있지만\n",
    " 모든 while문은 for문으로 나타낼 수 없다.\n"
   ]
  },
  {
   "cell_type": "markdown",
   "metadata": {},
   "source": [
    "jupyter notebook 단축키\n",
    "---\n",
    "- esc mode\n",
    "    - shift-Enter : run cell, select below\n",
    "    - ctrl-Enter : run cell\n",
    "    - alt-Enter : run cell, insert below\n",
    "    - Y : code mode\n",
    "    - M markdown mode\n",
    "    - shift-M : merge cell below\n",
    "    - A : insert cell above\n",
    "    - B : insert cell below"
   ]
  },
  {
   "cell_type": "code",
   "execution_count": 54,
   "metadata": {},
   "outputs": [
    {
     "name": "stdout",
     "output_type": "stream",
     "text": [
      "# 자연수 a, b의 최대 공약수를 출력하는 프로그램\n",
      "a=12\n",
      "b=18\n",
      "12 의 약수 : [1, 2, 3, 4, 6, 12]\n",
      "18 의 약수 : [1, 2, 3, 6, 9, 18]\n",
      "공약수 : [1, 2, 3, 6]\n",
      "최대 공약수 : 6\n"
     ]
    }
   ],
   "source": [
    "# 최대공약수 구하기\n",
    "print('# 자연수 a, b의 최대 공약수를 출력하는 프로그램')\n",
    "a_num = int(input('a='))\n",
    "b_num = int(input('b='))\n",
    "a_divisor = [a for a in range(1,a+1) if a_num % a == 0]\n",
    "b_divisor = [b for b in range(1,b+1) if b_num % b == 0]\n",
    "print(a_num,'의 약수 :',a_divisor)\n",
    "print(b_num,'의 약수 :',b_divisor)\n",
    "\n",
    "common_divisor = []\n",
    "\n",
    "i=0\n",
    "j=0\n",
    "while i != len(a_divisor) and j != len(b_divisor):\n",
    "    if a_divisor[i] == b_divisor[j]:\n",
    "        common_divisor.append(a_divisor[i])\n",
    "        if i < len(a_divisor):\n",
    "            i += 1\n",
    "        if j < len(b_divisor):\n",
    "            j += 1\n",
    "    else:\n",
    "        if a_divisor[i] > b_divisor[j]:\n",
    "            if j < len(b_divisor):\n",
    "                j += 1\n",
    "        else:\n",
    "            if i < len(a_divisor):\n",
    "                i += 1\n",
    "\n",
    "print('공약수 :',common_divisor)\n",
    "print('최대 공약수 :',max(common_divisor))"
   ]
  },
  {
   "cell_type": "markdown",
   "metadata": {},
   "source": [
    "유클리드 호제법\n",
    "---\n",
    "> a와 b의 최대공약수는 b와 a를 b로 나눈 나머지와의 최대공약수와 같기 때문에, b(=나머지)가 0일 때의 a값이 최대 공약수가 된다.\n",
    "(단, a > b)"
   ]
  },
  {
   "cell_type": "code",
   "execution_count": 2,
   "metadata": {},
   "outputs": [
    {
     "name": "stdout",
     "output_type": "stream",
     "text": [
      "# 자연수 a, b의 최대 공약수를 출력하는 프로그램\n",
      "a=12\n",
      "b=18\n",
      "12 의 약수 : [1, 2, 3, 4, 6, 12]\n",
      "18 의 약수 : [1, 2, 3, 6, 9, 18]\n",
      "최대 공약수 :  6\n"
     ]
    }
   ],
   "source": [
    "# 유클리드 호제법으로 최대공약수 구하기\n",
    "print('# 자연수 a, b의 최대 공약수를 출력하는 프로그램')\n",
    "a = int(input('a='))\n",
    "b = int(input('b='))\n",
    "a_divisor = [i for i in range(1,a//2+1) if a % i == 0]\n",
    "a_divisor.append(a)\n",
    "b_divisor = [i for i in range(1,b//2+1) if b % i == 0]\n",
    "b_divisor.append(b)\n",
    "print(a,'의 약수 :',a_divisor)\n",
    "print(b,'의 약수 :',b_divisor)\n",
    "\n",
    "if a < b:\n",
    "    a, b = b, a\n",
    "while b != 0:\n",
    "    a, b = b, a % b\n",
    "    \n",
    "print('최대 공약수 : ',a)"
   ]
  }
 ],
 "metadata": {
  "kernelspec": {
   "display_name": "Python 3",
   "language": "python",
   "name": "python3"
  },
  "language_info": {
   "codemirror_mode": {
    "name": "ipython",
    "version": 3
   },
   "file_extension": ".py",
   "mimetype": "text/x-python",
   "name": "python",
   "nbconvert_exporter": "python",
   "pygments_lexer": "ipython3",
   "version": "3.6.3"
  }
 },
 "nbformat": 4,
 "nbformat_minor": 2
}
