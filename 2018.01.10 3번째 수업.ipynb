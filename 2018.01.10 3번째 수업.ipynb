{
 "cells": [
  {
   "cell_type": "markdown",
   "metadata": {},
   "source": [
    "### < 18.01.10 3번째 수업 >"
   ]
  },
  {
   "cell_type": "code",
   "execution_count": 16,
   "metadata": {},
   "outputs": [
    {
     "name": "stdout",
     "output_type": "stream",
     "text": [
      "a = 2\n",
      "b = 2\n",
      "4\n"
     ]
    }
   ],
   "source": [
    "def power(x, y):\n",
    "    res = x\n",
    "    if y == 0:\n",
    "        return 1\n",
    "    else:\n",
    "        for i in range(y-1):\n",
    "            res *= x\n",
    "        return res\n",
    "\n",
    "a = int(input('a = '))\n",
    "b = int(input('b = '))\n",
    "result = power(a, b)\n",
    "\n",
    "print(result)"
   ]
  },
  {
   "cell_type": "code",
   "execution_count": 19,
   "metadata": {
    "scrolled": true
   },
   "outputs": [
    {
     "name": "stdout",
     "output_type": "stream",
     "text": [
      "a = 4\n",
      "b = 6\n",
      "c = 2\n",
      "최대값 :  6\n"
     ]
    }
   ],
   "source": [
    "# 세 수 중 가장 큰 값\n",
    "\n",
    "def max3(x, y, z):\n",
    "    \"\"\"\n",
    "    if x > y:\n",
    "        max = x\n",
    "    else:\n",
    "        max = y\n",
    "    if z > max:\n",
    "        max = z\n",
    "    \"\"\"\n",
    "    if x > y:\n",
    "        x,y = y,x\n",
    "    if y > z:\n",
    "        y,z = z,y\n",
    "    return z\n",
    "\n",
    "a = int(input('a = '))\n",
    "b = int(input('b = '))\n",
    "c = int(input('c = '))\n",
    "maxval = max3(a, b, c)\n",
    "print('최대값 : ', maxval)"
   ]
  },
  {
   "cell_type": "code",
   "execution_count": 21,
   "metadata": {},
   "outputs": [
    {
     "name": "stdout",
     "output_type": "stream",
     "text": [
      "a = 5\n",
      "1 5 "
     ]
    }
   ],
   "source": [
    "# 매개변수로 주어진 n이 m의 약수인지 여부 판별\n",
    "\n",
    "def isDivisor(m, n):\n",
    "    if m % n == 0:\n",
    "        return True\n",
    "    else:\n",
    "        return False\n",
    "\n",
    "a = int(input('a = '))\n",
    "for i in range(1, a+1):\n",
    "    if isDivisor(a, i):\n",
    "        print(i, end=' ')"
   ]
  },
  {
   "cell_type": "code",
   "execution_count": 28,
   "metadata": {},
   "outputs": [
    {
     "name": "stdout",
     "output_type": "stream",
     "text": [
      "a = 12\n",
      "b = 18\n",
      "최대공약수 :  6\n"
     ]
    }
   ],
   "source": [
    "# 매개변수로 주어진 m과 n의 최대공약수\n",
    "\n",
    "def gcd(m, n):\n",
    "    if m < n:\n",
    "        m,n = n,m\n",
    "    while n != 0:\n",
    "        m,n = n,m%n\n",
    "    return m\n",
    "\n",
    "a = int(input('a = '))\n",
    "b = int(input('b = '))\n",
    "print('최대공약수 : ', gcd(a, b))\n"
   ]
  },
  {
   "cell_type": "code",
   "execution_count": 40,
   "metadata": {},
   "outputs": [
    {
     "name": "stdout",
     "output_type": "stream",
     "text": [
      "N = 10000\n",
      "6 28 496 8128 "
     ]
    }
   ],
   "source": [
    "# 매개변수로 주어진 m이 완전수인지 판별\n",
    "\n",
    "def isPerfect(m):\n",
    "    sum = 0\n",
    "    for i in range(1,m//2+1):\n",
    "        if m % i == 0:\n",
    "            sum += i\n",
    "        \n",
    "    if sum == m:\n",
    "        return True\n",
    "    else:\n",
    "        return False\n",
    "\n",
    "N = int(input('N = '))\n",
    "for i in range(1, N+1):\n",
    "    if isPerfect(i):\n",
    "        print(i, end=' ')\n"
   ]
  },
  {
   "cell_type": "code",
   "execution_count": 50,
   "metadata": {},
   "outputs": [
    {
     "name": "stdout",
     "output_type": "stream",
     "text": [
      "a=2\n",
      "a=5\n",
      "a=-1\n",
      "지수는 0보다 커야 합니다.\n",
      "a=2\n",
      "a=5\n",
      "a=0\n",
      "10\n"
     ]
    }
   ],
   "source": [
    "# a*x^n 계산해주는 함수\n",
    "\n",
    "def evalTerm(x,y,z):\n",
    "    if z == 0:\n",
    "        return 1\n",
    "    else:\n",
    "        res = y\n",
    "        for i in range(z-1):\n",
    "            res *= y\n",
    "        return x*res\n",
    "\n",
    "while True:\n",
    "    a = int(input('a='))\n",
    "    b = int(input('b='))\n",
    "    c = int(input('c='))\n",
    "\n",
    "    if c < 0:\n",
    "        print('지수는 0보다 커야 합니다.')\n",
    "    else:\n",
    "        break\n",
    "    \n",
    "print(evalTerm(5,2,-1))"
   ]
  },
  {
   "cell_type": "code",
   "execution_count": 58,
   "metadata": {},
   "outputs": [
    {
     "name": "stdout",
     "output_type": "stream",
     "text": [
      "N =20\n",
      "[1, 1, 2, 3, 5, 8, 13, 21, 34, 55, 89, 144, 233, 377, 610, 987, 1597, 2584, 4181, 6765]\n"
     ]
    }
   ],
   "source": [
    "# 103p 연습문제 1.2 피보나치수열\n",
    "\n",
    "def fibo(n):\n",
    "    f_list = []\n",
    "    a = 1\n",
    "    b = 1\n",
    "    f_list.append(a)\n",
    "    f_list.append(b)\n",
    "    for i in range(n-2):\n",
    "        f_list.append(a+b)\n",
    "        a,b = b,a+b\n",
    "    return f_list\n",
    "    \n",
    "n = int(input('N ='))\n",
    "print(fibo(n))\n",
    "    "
   ]
  },
  {
   "cell_type": "markdown",
   "metadata": {},
   "source": [
    "- 전역변수\n",
    ">def add(a, b): <br><br>\n",
    "    global c<br>\n",
    "    c = a + b<br><br>\n",
    "a = int(input('정수 입력 : '))<br>\n",
    "b = int(input('정수 입력 : '))<br>\n",
    "c = 0<br>\n",
    "add(a, b)<br>\n",
    "print('c = ', c)"
   ]
  },
  {
   "cell_type": "code",
   "execution_count": 52,
   "metadata": {},
   "outputs": [
    {
     "name": "stdout",
     "output_type": "stream",
     "text": [
      "a=1\n",
      "b=2\n",
      "c=3\n",
      "6 2.0\n"
     ]
    }
   ],
   "source": [
    "# 입력된 세 정수 a,b,c의 합과 평균을 구하는 프로그램\n",
    "\n",
    "def sum_avg(x, y, z):\n",
    "    sum = x + y + z\n",
    "    avg = sum/3\n",
    "    return (sum, avg)\n",
    "\n",
    "a = int(input('a='))\n",
    "b = int(input('b='))\n",
    "c = int(input('c='))\n",
    "(s,avg) = sum_avg(a,b,c)\n",
    "print(s,avg)"
   ]
  },
  {
   "cell_type": "code",
   "execution_count": 67,
   "metadata": {},
   "outputs": [
    {
     "name": "stdout",
     "output_type": "stream",
     "text": [
      "2 이상의 자연수 입력 : 10\n",
      "10 은(는) 소수가 아닙니다.\n"
     ]
    },
    {
     "data": {
      "text/plain": [
       "False"
      ]
     },
     "execution_count": 67,
     "metadata": {},
     "output_type": "execute_result"
    }
   ],
   "source": [
    "# 소수인지 판별하는 함수 (1)\n",
    "\n",
    "def isPrimeNum(N):\n",
    "    i = 2\n",
    "    for i in range(2,N//2+1):\n",
    "        if N % i == 0:\n",
    "            print(N,'은(는) 소수가 아닙니다.')\n",
    "            return False\n",
    "        i += 1\n",
    "    print(N,'은(는) 소수입니다.')\n",
    "    return True\n",
    "\n",
    "N = int(input('2 이상의 자연수 입력 : '))\n",
    "isPrimeNum(N)"
   ]
  },
  {
   "cell_type": "code",
   "execution_count": null,
   "metadata": {
    "collapsed": true
   },
   "outputs": [],
   "source": [
    "# 소수인지 판별하는 함수 (2)\n",
    "\"\"\"\n",
    "def isPrimeNum(N):\n",
    "    for i in range(2,N//2+1):\n",
    "        if N % i == 0:\n",
    "            return False\n",
    "    return True\n",
    "\n",
    "while True:\n",
    "    N = int(input('2 이상의 자연수 입력 : '))\n",
    "    if N < 2:\n",
    "        print(N,'은(는) 2 이상의 자연수가 아닙니다.')\n",
    "    else:\n",
    "        for i in range(2,N+1):\n",
    "            if not isPrimeNum(N):\n",
    "                print(i,end=' ')\n",
    "        break\n",
    "\"\"\""
   ]
  },
  {
   "cell_type": "code",
   "execution_count": 12,
   "metadata": {},
   "outputs": [
    {
     "name": "stdout",
     "output_type": "stream",
     "text": [
      "N=10\n",
      "10 은 짝수 부족수 소수아님\n"
     ]
    }
   ],
   "source": [
    "def tripleFunc(N):\n",
    "    print(N,\"은\",end=' ')\n",
    "    \n",
    "    if N % 2 != 0:\n",
    "        print(\"홀수\",end=' ')\n",
    "    else:\n",
    "        print(\"짝수\",end=' ')\n",
    "        \n",
    "    sum = 0\n",
    "    for i in range(1,N//2+1):\n",
    "        if N % i == 0:\n",
    "            sum += i\n",
    "        \n",
    "    if sum == N:\n",
    "        print(\"완전수\",end=' ')\n",
    "    elif sum < N:\n",
    "        print(\"부족수\",end=' ')\n",
    "    else:\n",
    "        print(\"과잉수\",end=' ')\n",
    "    \n",
    "    for i in range(2,N//2+1):\n",
    "        if N % i == 0:\n",
    "            print(\"소수아님\")\n",
    "            break\n",
    "    if i == N//2:\n",
    "        print(\"소수\")\n",
    "        \n",
    "N = int(input('N='))\n",
    "tripleFunc(N)\n",
    "    "
   ]
  },
  {
   "cell_type": "markdown",
   "metadata": {},
   "source": [
    "- 함수 : 일반적인 함수\n",
    "- 메소드 : 클래스에 포함된 함수\n",
    "\n",
    "#### list의 메소드\n",
    "- copy : 얕은 복사\n",
    "> a = b.copy() # 똑같은 내용으로 새로운 a<br>\n",
    "> a = b        # a를 b로 가리킴(약간 포인터 느낌)"
   ]
  },
  {
   "cell_type": "code",
   "execution_count": 19,
   "metadata": {},
   "outputs": [
    {
     "name": "stdout",
     "output_type": "stream",
     "text": [
      "정수 입력(종료시는 999) :1\n",
      "정수 입력(종료시는 999) :2\n",
      "정수 입력(종료시는 999) :3\n",
      "정수 입력(종료시는 999) :3\n",
      "정수 입력(종료시는 999) :3\n",
      "정수 입력(종료시는 999) :3\n",
      "정수 입력(종료시는 999) :999\n",
      "[1, 2, 3]\n"
     ]
    }
   ],
   "source": [
    "# count()와 append()메소드를 사용하여 리스트의 중복 없이 입력하는 프로그램 작성\n",
    "\n",
    "N = 0\n",
    "a_list = []\n",
    "while N < 999:\n",
    "    N = int(input('정수 입력(종료시는 999) :'))\n",
    "    if a_list.count(N) < 1 and N != 999:\n",
    "        a_list.append(N)\n",
    "        \n",
    "print(a_list)"
   ]
  },
  {
   "cell_type": "code",
   "execution_count": 18,
   "metadata": {},
   "outputs": [
    {
     "name": "stdout",
     "output_type": "stream",
     "text": [
      "N =30\n",
      "m =4\n",
      "4 8 12 16 20 24 28 "
     ]
    }
   ],
   "source": [
    "# 자연수 N과 m을 입력 받고, N 이하의 m의 배수를 출력하는 프로그램\n",
    "\n",
    "N = int(input('N ='))\n",
    "m = int(input('m ='))\n",
    "\n",
    "for i in range(m,N+1,m):\n",
    "    print(i,end=' ')"
   ]
  }
 ],
 "metadata": {
  "kernelspec": {
   "display_name": "Python 3",
   "language": "python",
   "name": "python3"
  },
  "language_info": {
   "codemirror_mode": {
    "name": "ipython",
    "version": 3
   },
   "file_extension": ".py",
   "mimetype": "text/x-python",
   "name": "python",
   "nbconvert_exporter": "python",
   "pygments_lexer": "ipython3",
   "version": "3.6.3"
  }
 },
 "nbformat": 4,
 "nbformat_minor": 2
}
