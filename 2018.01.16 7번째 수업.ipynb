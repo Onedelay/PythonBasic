{
 "cells": [
  {
   "cell_type": "code",
   "execution_count": 11,
   "metadata": {},
   "outputs": [
    {
     "name": "stdout",
     "output_type": "stream",
     "text": [
      "a =100\n",
      "b = 100\n",
      "두 수의 합 :  200\n"
     ]
    }
   ],
   "source": [
    "# 숫자로 된 문자열 2개를 입력받고 수로 바꾸어주는 프로그램\n",
    "\n",
    "def makeNum(x):\n",
    "    mul = 1\n",
    "    c = 0\n",
    "    for i in range(len(x)-1,-1,-1):\n",
    "        c += (ord(x[i])-48)*mul\n",
    "        mul *= 10\n",
    "    return c\n",
    "\n",
    "a = makeNum(input('a ='))\n",
    "b = makeNum(input('b = '))\n",
    "\n",
    "print('두 수의 합 : ',a+b)\n",
    "\n"
   ]
  },
  {
   "cell_type": "code",
   "execution_count": 83,
   "metadata": {},
   "outputs": [
    {
     "name": "stdout",
     "output_type": "stream",
     "text": [
      "평문 입력 : xyz zyx\n",
      "K 값 입력(1~26) : 3\n",
      "암호문 출력 : [ abcba ]\n"
     ]
    }
   ],
   "source": [
    "# 영문 소문자로 이루어진 문자열을 입력 받아 암호문으로 변환하는 프로그램\n",
    "\n",
    "def encipher(p, k):\n",
    "    s = ''\n",
    "    for i in range(len(p)):\n",
    "        c = ord(p[i])\n",
    "        if c == ord(' '):\n",
    "            c = ord('a')-1\n",
    "        c += k\n",
    "        if c > 122:\n",
    "            c = c % 122 + ord('a')-2\n",
    "        if c == ord('a')-1:\n",
    "            c = ord(' ')\n",
    "        #print(c)\n",
    "        s += chr(c)\n",
    "    return s\n",
    "\n",
    "string = input('평문 입력 : ')\n",
    "k = int(input('K 값 입력(1~26) : '))\n",
    "result = encipher(string,k)\n",
    "print('암호문 출력 : [%s]'%result)\n",
    "    "
   ]
  },
  {
   "cell_type": "code",
   "execution_count": 97,
   "metadata": {},
   "outputs": [
    {
     "name": "stdout",
     "output_type": "stream",
     "text": [
      "평문 입력 : abc xyz\n",
      "K 값 입력(1~26) : 3\n",
      "암호문 : [defc ab]\n",
      "복호화된 평문 : [abc xww]\n"
     ]
    }
   ],
   "source": [
    "# 암호화된 문자열을 복호화하여 다시 평문으로 변환\n",
    "\n",
    "def decipher(p, k):\n",
    "    s = ''\n",
    "    for i in range(len(p)):\n",
    "        c = ord(p[i])\n",
    "        if c == ord(' '):\n",
    "            c = ord('z')+1\n",
    "        c -= k\n",
    "        if c < ord('a')-1:\n",
    "            c = ord('z')-k\n",
    "        if c == ord('a')-1:\n",
    "            c = ord(' ')\n",
    "        s += chr(c)\n",
    "    return s\n",
    "\n",
    "string = input('평문 입력 : ')\n",
    "k = int(input('K 값 입력(1~26) : '))\n",
    "result = encipher(string,k)\n",
    "print('암호문 : [%s]'%result)\n",
    "print('복호화된 평문 : [%s]'%decipher(result,k))"
   ]
  },
  {
   "cell_type": "code",
   "execution_count": 205,
   "metadata": {},
   "outputs": [
    {
     "name": "stdout",
     "output_type": "stream",
     "text": [
      "MACJRQ LX KQ LQCFOMOFCFB JLHJ NFSFN MORHOKPPLQH NKQHYKHF ERO HFQFOKN MYOMRXF MORHOKPPLQH. \n",
      "VOFKCFB GA HYLBR SKQ ORXXYP, MACJRQ JKX K BFXLHQ MJLNRXRMJA CJKC FPMJKXLIFX VRBF OFKBKGLNLCA, \n",
      "KQB K XAQCKO CJKC KNNRZX MORHOKPPFOX CR FOMOFXX VRQVFMCX LQ EFZFO NLQFX RE VRBF, \n",
      "QRCKGNA YXLQH XLHQLELVKQC ZJLCFXMKVF. LC MORSLBFX VRQXCOYVCX CJKC FQKGNF VNFKO \n",
      "MORHOKPPLQH RQ GRCJ XPKNN KQB NKOHF XVKNFX.\n",
      "MACJRQ EFKCYOFX K BAQKPLV CAMF XAXCFP KQB KYCRPKCLV PFPROA PKQKHFPFQC. \n",
      "LC XYMMROCX PYNCLMNF MORHOKPPLQH MKOKBLHPX, LQVNYBLQH RGDFVC ROLFQCFB, LPMFOKCLSF, \n",
      "EYQVCLRQKN KQB MORVFBYOKN, KQB JKX K NKOHF KQB VRPMOFJFQXLSF XCKQBKOB NLGOKOA.\n",
      "MACJRQ LX K PYNCL-MKOKBLHP MORHOKPPLQH NKQHYKHF. RGDFVC ROLFQCFB MORHOKPPLQH KQB \n",
      "XCOYVCYOFB MORHOKPPLQH KOF EYNNA XYMMROCFB, KQB PKQA RE LCX EFKCYOFX XYMMROC \n",
      "EYQVCLRQKN MORHOKPPLQH KQB KXMFVC ROLFQCFB MORHOKPPLQH LQVNYBLQH GA PFCKMORHOKPPLQH \n",
      "KQB PFCKRGDFVCX. PKQA RCJFO MKOKBLHPX KOF XYMMROCFB SLK FOCFQXLRQX, LQVNYBLQH BFXLHQ \n",
      "GA VRQCOKVC KQB NRHLV MORHOKPPLQH.\n",
      "MACJRQ YXFX BAQKPLV CAMLQH, KQB K VRPGLQKCLRQ RE OFEFOFQVF VRYQCLQH KQB K VAVNF BFCFVCLQH \n",
      "HKOGKHF VRNNFVCRO ERO PFPROA PKQKHFPFQC. LC KNXR EFKCYOFX BAQKPLV QKPF OFXRNYCLRQ, \n",
      "ZJLVJ GLQBX PFCJRB KQB SKOLKGNF QKPFX BYOLQH MORHOKP FOFVYCLRQ.\n",
      "==========\n",
      "총 문자수 : 1194\n",
      "space : 163, 13.65%\n",
      "A : 25, 2.09%\n",
      "B : 45, 3.77%\n",
      "C : 71, 5.95%\n",
      "D : 3, 0.25%\n",
      "E : 14, 1.17%\n",
      "F : 93, 7.79%\n",
      "G : 15, 1.26%\n",
      "H : 52, 4.36%\n",
      "I : 1, 0.08%\n",
      "J : 22, 1.84%\n",
      "K : 103, 8.63%\n",
      "L : 72, 6.03%\n",
      "M : 46, 3.85%\n",
      "N : 37, 3.10%\n",
      "O : 82, 6.87%\n",
      "P : 56, 4.69%\n",
      "Q : 89, 7.45%\n",
      "R : 69, 5.78%\n",
      "S : 7, 0.59%\n",
      "V : 40, 3.35%\n",
      "X : 54, 4.52%\n",
      "Y : 31, 2.60%\n",
      "Z : 4, 0.34%\n"
     ]
    }
   ],
   "source": [
    "# 암호문 작성 및 해독\n",
    "# 1. 영문 대문자를 입력 받은 다음, 입력 받은 문자열에 사용된 영문 대문자의 빈도수를 세는 프로그램 작성\n",
    "\n",
    "def checkFre(string):\n",
    "    zeros = [0 for i in range(27)]\n",
    "    #print('빈도수를 세기 위한 리스트')\n",
    "    #print(zeros)\n",
    "    \n",
    "    cnt = 0\n",
    "    for i in range(len(string)):\n",
    "        c = ord(string[i])\n",
    "        if string[i].isalpha() or c == ord(' '):\n",
    "            if c == ord(' '):\n",
    "                zeros[0] += 1\n",
    "            else:\n",
    "                zeros[c-64] += 1\n",
    "            cnt += 1\n",
    "\n",
    "    #print('문자열의 빈도수')\n",
    "    #print(zeros)\n",
    "    \n",
    "    return zeros, cnt\n",
    "    \n",
    "#string = input('문자열 입력 : ')\n",
    "\n",
    "fin = open(\"cipher.txt\",'r')\n",
    "text = fin.read()\n",
    "print(text)\n",
    "\n",
    "fList, cnt = checkFre(text)\n",
    "\n",
    "print(\"=\"*10)\n",
    "\n",
    "print('총 문자수 : %d'%cnt)\n",
    "for i in range(len(fList)):\n",
    "    if fList[i] != 0:\n",
    "        if i == 0:\n",
    "            print('space : %d, %.2f%%'%(fList[i],fList[i]/cnt*100))\n",
    "        else:\n",
    "            c = chr(i+64)\n",
    "            print('%c : %d, %.2f%%'%(c,fList[i],fList[i]/cnt*100))\n"
   ]
  },
  {
   "cell_type": "code",
   "execution_count": 225,
   "metadata": {},
   "outputs": [
    {
     "name": "stdout",
     "output_type": "stream",
     "text": [
      "python is an interpreted high level programming language for general purpose programming. \n",
      "created by guido van rossum, python has a design philosophy that emphasizes code readability, \n",
      "and a syntar that allows programmers to erpress concepts in fewer lines of code, \n",
      "notably using significant whitespace. it provides constructs that enable clear \n",
      "programming on both small and large scales.\n",
      "python features a dynamic type system and automatic memory management. \n",
      "it supports multiple programming paradigms, including object oriented, imperative, \n",
      "functional and procedural, and has a large and comprehensive standard library.\n",
      "python is a multi-paradigm programming language. object oriented programming and \n",
      "structured programming are fully supported, and many of its features support \n",
      "functional programming and aspect oriented programming including by metaprogramming \n",
      "and metaobjects. many other paradigms are supported via ertensions, including design \n",
      "by contract and logic programming.\n",
      "python uses dynamic typing, and a combination of reference counting and a cycle detecting \n",
      "garbage collector for memory management. it also features dynamic name resolution, \n",
      "which binds method and variable names during program erecution.\n"
     ]
    }
   ],
   "source": [
    "# 3. 앞에서 구한 문자의 빈도수 비율을 사용하여 암호문을 해독하는데 필요한 문자변환표를 만든 다음 암호문을 평문으로 변환하는 프로그램을 작성하라.\n",
    "# wahr77@naver.com 평문 제일 먼저 보낸사람에게 선물\n",
    "\n",
    "abc = 'ABCDEFGHIJKLMNOPQRSTUVWXYZ'\n",
    "#k = 'KGVBFEHJLDUNPQRMTOXCYSZOAI'\n",
    "k = 'YDTJFEBGZHAIPLRMNOVQKCXSUW'\n",
    "\n",
    "#text='YQQYTA VYEF WRLF'\n",
    "\n",
    "result = ''\n",
    "\n",
    "for i in range(len(text)):\n",
    "    if not text[i] == ' ' and text[i].isalpha(): \n",
    "        result += k[ord(text[i])-65].lower()\n",
    "        #print(k[ord(text[i])-65],ord(text[i])-65)\n",
    "        \"\"\"\n",
    "        if i == 10:\n",
    "            break\n",
    "        \"\"\"\n",
    "    else:\n",
    "        result += text[i]\n",
    "\n",
    "print(result)"
   ]
  },
  {
   "cell_type": "code",
   "execution_count": 224,
   "metadata": {},
   "outputs": [
    {
     "name": "stdout",
     "output_type": "stream",
     "text": [
      "0 Y\n",
      "1 D\n",
      "2 T\n",
      "3 J\n",
      "4 F\n",
      "5 E\n",
      "6 B\n",
      "7 G\n",
      "8 Z\n",
      "9 H\n",
      "10 A\n",
      "11 I\n",
      "12 P\n",
      "13 L\n",
      "14 X\n",
      "15 M\n",
      "16 N\n",
      "17 O\n",
      "18 V\n",
      "19 Q\n",
      "20 K\n",
      "21 C\n",
      "22 R\n",
      "23 S\n",
      "24 U\n",
      "25 W\n"
     ]
    }
   ],
   "source": [
    "k = 'YDTJFEBGZHAIPLRMNOVQKCXSUW'\n",
    "k_list = [k[i] for i in range(len(k))]\n",
    "for i in range(len(k_list)):print(i,k_list[i])"
   ]
  }
 ],
 "metadata": {
  "kernelspec": {
   "display_name": "Python 3",
   "language": "python",
   "name": "python3"
  },
  "language_info": {
   "codemirror_mode": {
    "name": "ipython",
    "version": 3
   },
   "file_extension": ".py",
   "mimetype": "text/x-python",
   "name": "python",
   "nbconvert_exporter": "python",
   "pygments_lexer": "ipython3",
   "version": "3.6.3"
  }
 },
 "nbformat": 4,
 "nbformat_minor": 2
}
