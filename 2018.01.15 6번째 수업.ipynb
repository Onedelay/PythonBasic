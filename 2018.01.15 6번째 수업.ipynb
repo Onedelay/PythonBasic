{
 "cells": [
  {
   "cell_type": "code",
   "execution_count": 3,
   "metadata": {},
   "outputs": [
    {
     "name": "stdout",
     "output_type": "stream",
     "text": [
      "[[0, 1, 2], [0, 1, 2], [0, 1, 2], [0, 1, 2]]\n"
     ]
    }
   ],
   "source": [
    "def makeList(m, n):\n",
    "    a = []\n",
    "    for i in range(m):\n",
    "        b = []\n",
    "        for j in range(n):\n",
    "            b.append(j)\n",
    "        a.append(b)\n",
    "    return a\n",
    "\n",
    "M = 4\n",
    "N = 3\n",
    "print(makeList(M, N)) "
   ]
  },
  {
   "cell_type": "code",
   "execution_count": 11,
   "metadata": {},
   "outputs": [
    {
     "name": "stdout",
     "output_type": "stream",
     "text": [
      "N=5\n",
      "[[1], [1, 2], [1, 2, 3], [1, 2, 3, 4], [1, 2, 3, 4, 5]]\n"
     ]
    }
   ],
   "source": [
    "# 위 문제 응용한 것(1)\n",
    "\n",
    "def makeList(n):\n",
    "    a = []\n",
    "    for i in range(1,n+1):\n",
    "        b = []\n",
    "        for j in range(1,i+1):\n",
    "            b.append(j)\n",
    "        a.append(b)\n",
    "    return a\n",
    "\n",
    "N = int(input('N='))\n",
    "print(makeList(N)) "
   ]
  },
  {
   "cell_type": "code",
   "execution_count": 12,
   "metadata": {},
   "outputs": [
    {
     "name": "stdout",
     "output_type": "stream",
     "text": [
      "N=4\n",
      "[[4, 3, 2, 1], [3, 2, 1], [2, 1], [1]]\n"
     ]
    }
   ],
   "source": [
    "# 위 문제 응용한 것(2)\n",
    "\n",
    "def makeList(n):\n",
    "    a = []\n",
    "    for i in range(n,0,-1):\n",
    "        b = []\n",
    "        for j in range(i,0,-1):\n",
    "            b.append(j)\n",
    "        a.append(b)\n",
    "    return a\n",
    "\n",
    "N = int(input('N='))\n",
    "print(makeList(N)) "
   ]
  },
  {
   "cell_type": "code",
   "execution_count": 5,
   "metadata": {},
   "outputs": [
    {
     "name": "stdout",
     "output_type": "stream",
     "text": [
      "55\n"
     ]
    }
   ],
   "source": [
    "def abc(n):\n",
    "    s = 0\n",
    "    for i in range(1, n+1):\n",
    "        for j in range(i, n+1):\n",
    "            s += j\n",
    "    return s\n",
    "N = 5\n",
    "print(abc(N))\n",
    "\n",
    "\"\"\"\n",
    "1+2+3+4+5\n",
    "+2+3+4+5\n",
    "+3+4+5\n",
    "+4+5\n",
    "+5\n",
    "\"\"\""
   ]
  },
  {
   "cell_type": "code",
   "execution_count": 6,
   "metadata": {},
   "outputs": [
    {
     "name": "stdout",
     "output_type": "stream",
     "text": [
      "140\n"
     ]
    }
   ],
   "source": [
    "def xyz(n):\n",
    "    s = 0\n",
    "    for i in range(1, n+1):\n",
    "        for j in range(i, n+1):\n",
    "            for k in range(j, n+1):\n",
    "                s += k\n",
    "    return s\n",
    "N = 5\n",
    "print(xyz(N)) \n",
    "\n",
    "\"\"\"\n",
    "i=1 : 1+2+3+4+5+2+3+4+5+3+4+5+4+5+5 = 55\n",
    "i=2 : 2+3+4+5+3+4+5+4+5+5 = 40\n",
    "i=3 : 3+4+5+4+5+5 = 26\n",
    "i=4 : 4+5+5 = 14\n",
    "i=5 : 5 = 5\n",
    "= 140\n",
    "\"\"\""
   ]
  },
  {
   "cell_type": "code",
   "execution_count": 2,
   "metadata": {},
   "outputs": [
    {
     "name": "stdout",
     "output_type": "stream",
     "text": [
      "m = 3\n",
      "n = 2\n"
     ]
    },
    {
     "data": {
      "text/plain": [
       "[[1, 3], [5, 4], [4, 1]]"
      ]
     },
     "execution_count": 2,
     "metadata": {},
     "output_type": "execute_result"
    }
   ],
   "source": [
    "# 1. 행렬 만들기\n",
    "\n",
    "import random\n",
    "\n",
    "def makeMatrix(m, n):\n",
    "    a = []\n",
    "    for i in range(m):\n",
    "        b = []\n",
    "        for j in range(n):\n",
    "            b.append(random.randint(1,5))\n",
    "        a.append(b)\n",
    "    return a\n",
    "\n",
    "m = int(input('m = '))\n",
    "n = int(input('n = '))\n",
    "\n",
    "makeMatrix(m,n)"
   ]
  },
  {
   "cell_type": "code",
   "execution_count": 3,
   "metadata": {},
   "outputs": [
    {
     "name": "stdout",
     "output_type": "stream",
     "text": [
      "3 4 \n",
      "2 3 \n",
      "5 3 \n",
      "-------\n"
     ]
    }
   ],
   "source": [
    "# 2. 행렬 출력하기\n",
    "\n",
    "def printMatrix(A):\n",
    "    for i in range(len(A)):\n",
    "        for j in range(len(A[i])):\n",
    "            print(A[i][j],end=' ')\n",
    "        print()\n",
    "    print('-------')\n",
    "        \n",
    "printMatrix(makeMatrix(m,n))"
   ]
  },
  {
   "cell_type": "code",
   "execution_count": 25,
   "metadata": {},
   "outputs": [
    {
     "name": "stdout",
     "output_type": "stream",
     "text": [
      "m = 3\n",
      "n = 3\n",
      "1 1 1 \n",
      "2 1 1 \n",
      "4 3 1 \n",
      "-------\n",
      "1 2 2 \n",
      "4 1 5 \n",
      "4 5 3 \n",
      "-------\n",
      "2 3 3 \n",
      "6 2 6 \n",
      "8 8 4 \n",
      "-------\n"
     ]
    }
   ],
   "source": [
    "# 3. 행렬의 덧셈\n",
    "\n",
    "# 입력 : 행 수 m, 열 수 n\n",
    "# 출력 : 행렬 A + 행렬 B\n",
    "\n",
    "def addMatrix(A,B):\n",
    "    C = []\n",
    "    for i in range(len(A)):\n",
    "        c = []\n",
    "        for j in range(len(A[i])):\n",
    "            c.append(A[i][j]+B[i][j])\n",
    "        C.append(c)\n",
    "    return C\n",
    "            \n",
    "m = int(input('m = '))\n",
    "n = int(input('n = '))\n",
    "\n",
    "A = makeMatrix(m,n)\n",
    "printMatrix(A)\n",
    "B = makeMatrix(m,n)\n",
    "printMatrix(B)\n",
    "C = addMatrix(A,B)\n",
    "printMatrix(C)"
   ]
  },
  {
   "cell_type": "code",
   "execution_count": 17,
   "metadata": {},
   "outputs": [
    {
     "name": "stdout",
     "output_type": "stream",
     "text": [
      "m = 2\n",
      "n = 2\n",
      "행렬 A\n",
      "1 1 \n",
      "3 5 \n",
      "-------\n",
      "======\n",
      "a = 2\n",
      "b = 3\n",
      "행렬 B\n",
      "5 2 1 \n",
      "2 2 2 \n",
      "-------\n",
      "A * B\n",
      "7 4 3 \n",
      "25 16 13 \n",
      "-------\n"
     ]
    }
   ],
   "source": [
    "# 4. (정방)행렬의 곱셈\n",
    "\n",
    "# 입력 : 행 수 m (정방행렬이므로 m과 n의 값이 같음)\n",
    "# 출력 : 행렬 A * 행렬 B\n",
    "\n",
    "\"\"\"\n",
    "A[0,0] [0,1] [0,2]    B[0,0] [0,1] [0,2]\n",
    " [1,0] [1,1] [1,2]     [1,0] [1,1] [1,2]\n",
    " [2,0] [2,1] [2,2]     [2,0] [2,1] [2,2]         \n",
    "\"\"\"\n",
    "\n",
    "def multiplyMatrix(A,B):\n",
    "    C = []\n",
    "    if len(A[0]) != len(B):\n",
    "        print(\"행렬 A의 열, 행렬 B의 행 수가 같아야 합니다. [%d,%d]*[%d,%d]\"%(len(A),len(A[0]),len(B),len(B[0])))\n",
    "        return -1\n",
    "    \n",
    "    for k in range(len(A)):\n",
    "        c = []\n",
    "        for i in range(len(B[0])):\n",
    "            tmp = 0\n",
    "            for j in range(len(A[0])):\n",
    "                tmp += A[k][j]*B[j][i]\n",
    "                #print('[%d,%d] * [%d,%d]'%(k,j,j,i))  \n",
    "            c.append(tmp)\n",
    "        C.append(c)\n",
    "        \n",
    "    return C\n",
    "\n",
    "m = int(input('m = '))\n",
    "n = int(input('n = '))\n",
    "\n",
    "A = makeMatrix(m,n)\n",
    "print('행렬 A')\n",
    "printMatrix(A)\n",
    "\n",
    "print('======')\n",
    "\n",
    "a = int(input('a = '))\n",
    "b = int(input('b = '))\n",
    "B = makeMatrix(a,b)\n",
    "print('행렬 B')\n",
    "printMatrix(B)\n",
    "C = multiplyMatrix(A,B)\n",
    "print('A * B')\n",
    "printMatrix(C)"
   ]
  },
  {
   "cell_type": "code",
   "execution_count": 50,
   "metadata": {},
   "outputs": [
    {
     "name": "stdout",
     "output_type": "stream",
     "text": [
      "n = 3\n",
      "0 3 3 \n",
      "3 0 1 \n",
      "1 1 0 \n",
      "-------\n",
      "상위 삼각 행렬에 있는 수의 합 : 7\n"
     ]
    }
   ],
   "source": [
    "\"\"\"\n",
    "1. 다음과 같이 0에서 3 사이의 난수로 이루어진 정방행렬에서 상위 삼각 행렬(i를 행, j를 열이라고 할 때, i < j인 원소)에 있는 원소의 합을 출력하는 프로그램을 작성하\n",
    "라. 사용자로부터 정방행렬의 크기 n을 입력 받고, 0에서 3 사이의 난수를 발생시켜\n",
    "서 입력한다. 단, 주대각선(i = j)에 있는 원소에는 0을 입력한다.\n",
    ">>>\n",
    "n = 6\n",
    "0 3 3 3 0 3\n",
    "1 0 0 2 0 2\n",
    "3 0 0 0 3 3\n",
    "0 0 1 0 1 0\n",
    "0 1 3 3 0 2\n",
    "3 1 0 0 0 0\n",
    "상위 삼각 행렬에 있는 수의 합 : 25\n",
    "\"\"\"\n",
    "\n",
    "def makeMatrix2(n):\n",
    "    a = []\n",
    "    for i in range(n):\n",
    "        b = []\n",
    "        for j in range(n):\n",
    "            if i==j:\n",
    "                b.append(0)\n",
    "            else:\n",
    "                b.append(random.randint(1,5))\n",
    "        a.append(b)\n",
    "    return a\n",
    "\n",
    "def sumTriangle(A):\n",
    "    s = 0\n",
    "    for i in range(len(A)):\n",
    "        for j in range(len(A[i])):\n",
    "            if i<j:\n",
    "                s += A[i][j]\n",
    "    return s\n",
    "\n",
    "n = int(input('n = '))\n",
    "A = makeMatrix2(n)\n",
    "printMatrix(A)\n",
    "result = sumTriangle(A)\n",
    "print('상위 삼각 행렬에 있는 수의 합 : %d'%result)"
   ]
  },
  {
   "cell_type": "code",
   "execution_count": 78,
   "metadata": {},
   "outputs": [
    {
     "name": "stdout",
     "output_type": "stream",
     "text": [
      "n = 5\n",
      "0 1 0 1 1 \n",
      "0 0 1 1 1 \n",
      "0 1 0 0 1 \n",
      "0 1 1 0 1 \n",
      "0 0 0 1 0 \n",
      "-------\n",
      "대칭인 원소의 개수 : 3\n"
     ]
    }
   ],
   "source": [
    "\"\"\"\n",
    "2. 다음과 같이 0과 1로 이루어진 정방행렬에서 i를 행, j를 열이라고 할 때, 상위 삼각\n",
    "행렬(i < j인 원소)과 하위 삼각 행렬(i > j인 원소)에 있는 1 값을 가지고 있는 원\n",
    "소 중 대칭인 원소의 개수를 세어 출력하는 프로그램을 작성하라. 대칭인 원소는 행\n",
    "렬을 m이라고 할 때 m[i][j] = 1, m[j][i] = 1인 원소이다. 사용자로부터 정방행렬의\n",
    "크기 n을 입력 받고, 0과 1은 난수를 발생시켜서 입력한다. 단, 주대각선(i = j)에 있\n",
    "는 원소에는 0을 입력한다.\n",
    "[실행 예]\n",
    "----------------------------------------------------------------------\n",
    ">>>\n",
    "n = 6\n",
    "0 0 1 1 0 0\n",
    "0 0 1 1 1 1\n",
    "0 1 0 1 0 0\n",
    "0 0 0 0 0 1\n",
    "1 1 0 0 0 0\n",
    "1 0 1 1 0 0\n",
    "대칭인 원소의 개수 : 3\n",
    "\"\"\"\n",
    "\n",
    "def makeMatrix3(n):\n",
    "    a = []\n",
    "    for i in range(n):\n",
    "        b = []\n",
    "        for j in range(n):\n",
    "            if i==j:\n",
    "                b.append(0)\n",
    "            else:\n",
    "                b.append(random.randint(0,1))\n",
    "        a.append(b)\n",
    "    return a\n",
    "\n",
    "def countSymMatrix(A):\n",
    "    cnt = 0\n",
    "    for i in range(len(A)):\n",
    "        for j in range(i+1,len(A[i])):\n",
    "            if A[i][j] == 1 and 1 == A[j][i]:\n",
    "                    cnt += 1\n",
    "                \n",
    "    return cnt          \n",
    "\n",
    "n = int(input('n = '))\n",
    "A = makeMatrix3(n)\n",
    "printMatrix(A)\n",
    "result = countSymMatrix(A)\n",
    "print('대칭인 원소의 개수 : %d'%result)"
   ]
  }
 ],
 "metadata": {
  "kernelspec": {
   "display_name": "Python 3",
   "language": "python",
   "name": "python3"
  },
  "language_info": {
   "codemirror_mode": {
    "name": "ipython",
    "version": 3
   },
   "file_extension": ".py",
   "mimetype": "text/x-python",
   "name": "python",
   "nbconvert_exporter": "python",
   "pygments_lexer": "ipython3",
   "version": "3.6.3"
  }
 },
 "nbformat": 4,
 "nbformat_minor": 2
}
