{
 "cells": [
  {
   "cell_type": "markdown",
   "metadata": {},
   "source": [
    "* 프로그램의 실행시간을 측정하는 방법\n",
    "> import time<br>\n",
    "> start = time.time()<br>\n",
    "> #-파이썬 코드-#<br>\n",
    "> end = time.time() - start<br>\n",
    "> print('실행시간 :',end)<br>"
   ]
  },
  {
   "cell_type": "code",
   "execution_count": 18,
   "metadata": {},
   "outputs": [
    {
     "name": "stdout",
     "output_type": "stream",
     "text": [
      "자연수 N 입력 : 100\n",
      "합계 :  5050\n",
      "실행시간 :  0.0\n"
     ]
    }
   ],
   "source": [
    "# 1~N까지 합을 구하는 프로그램 실행시간 측정\n",
    "\n",
    "import time\n",
    "\n",
    "N = int(input('자연수 N 입력 : '))\n",
    "s = 0\n",
    "start = time.time()\n",
    "for i in range(1, N+1):\n",
    "    s += i\n",
    "end = time.time() - start\n",
    "print('합계 : ',s)\n",
    "print('실행시간 : ',end)"
   ]
  },
  {
   "cell_type": "code",
   "execution_count": 23,
   "metadata": {},
   "outputs": [
    {
     "name": "stdout",
     "output_type": "stream",
     "text": [
      "자연수 N 입력 : 3000\n",
      "합계 :  40500004500000\n",
      "실행시간 :  1.1798372268676758\n"
     ]
    }
   ],
   "source": [
    "# 1~N^2 까지 합을 구하는 프로그램 실행시간 측정\n",
    "\n",
    "N = int(input('자연수 N 입력 : '))\n",
    "s = 0\n",
    "start = time.time()\n",
    "for i in range(1, N*N+1):\n",
    "    s += i\n",
    "end = time.time() - start\n",
    "\n",
    "print('합계 : ',s)\n",
    "print('실행시간 : ',end)"
   ]
  },
  {
   "cell_type": "code",
   "execution_count": 13,
   "metadata": {},
   "outputs": [
    {
     "name": "stdout",
     "output_type": "stream",
     "text": [
      "ABLE WAS I ERE I SAW ELBA\n",
      "True\n",
      "aBLE WAS i ERE i SAW eLBA\n",
      "able was i ere i saw elba\n",
      "Able was i ere i saw elba\n",
      "Able Was I Ere I Saw Elba\n",
      "2\n",
      "5\n",
      "9\n",
      "['i', 'am', 'a', 'boy']\n"
     ]
    }
   ],
   "source": [
    "# 문자열 내장 메소드 사용 예\n",
    "\n",
    "s = 'Able was I ere I saw Elba'\n",
    "s1 = s.upper()\n",
    "print(s1)\n",
    "print(s1.isupper())\n",
    "print(s.swapcase())\n",
    "s2 = s.lower()\n",
    "print(s2)\n",
    "print(s2.capitalize())\n",
    "print(s2.title())\n",
    "\n",
    "print(s.count('I'))\n",
    "print(s.find('was'))\n",
    "print(s.index('I'))\n",
    "\n",
    "string = 'ibyambyabyboy'\n",
    "str_split = string.split('by')\n",
    "print(str_split)"
   ]
  },
  {
   "cell_type": "code",
   "execution_count": 26,
   "metadata": {},
   "outputs": [
    {
     "name": "stdout",
     "output_type": "stream",
     "text": [
      " 문자열 = bbccabcd\n",
      "중복이 제거된 문자열 : bcad\n"
     ]
    }
   ],
   "source": [
    "# 문자열을 입력 받고 문자열에 있는 문자가 여러개 있을 경우 처음 나오는 문자 하나만 출력\n",
    "\n",
    "def delDup(x):\n",
    "    s = ''\n",
    "    for i in range(len(x)):\n",
    "        if s.count(x[i]) < 1: \n",
    "            s += x[i]\n",
    "    return s\n",
    "\n",
    "s = input('문자열 = ')\n",
    "print('중복이 제거된 문자열 :',delDup(s))"
   ]
  },
  {
   "cell_type": "code",
   "execution_count": 19,
   "metadata": {},
   "outputs": [
    {
     "name": "stdout",
     "output_type": "stream",
     "text": [
      "문자열 입력 : 다시! 합창합시다~\n",
      "변환된 문자열 : 다시합창합시다\n",
      "회문입니다.\n"
     ]
    }
   ],
   "source": [
    "# 회문 여부 판별\n",
    "\n",
    "def isPalindrome(s):\n",
    "    s_ = s.lower()\n",
    "    s = ''\n",
    "    \n",
    "    for i in range(len(s_)):\n",
    "        if s_[i].isalpha():\n",
    "            s += s_[i]\n",
    "    \n",
    "    print('변환된 문자열 :',s)\n",
    "    \n",
    "    i = 0 \n",
    "    j = len(s)-1\n",
    "    while i<=j:\n",
    "        if s[i] == s[j]:\n",
    "            i += 1\n",
    "            j -= 1\n",
    "        else:\n",
    "            print('회문이 아닙니다.')\n",
    "            return\n",
    "    print('회문입니다.')\n",
    "    \n",
    "s = input('문자열 입력 : ')\n",
    "isPalindrome(s)\n"
   ]
  },
  {
   "cell_type": "code",
   "execution_count": 23,
   "metadata": {},
   "outputs": [
    {
     "name": "stdout",
     "output_type": "stream",
     "text": [
      "문자열 입력 : 밥버거\n",
      "밥버거 밥거버 버밥거 버거밥 거버밥 거밥버 "
     ]
    }
   ],
   "source": [
    "# 문자열을 이루는 단어들의 모든 조합\n",
    "\n",
    "def perm(a, i, n):\n",
    "    if i == n - 1:\n",
    "        for i in range(n): print(a[i], end='')\n",
    "        print(end=' ')\n",
    "    else:\n",
    "        for j in range(i, n):\n",
    "            a[i], a[j] = a[j], a[i]\n",
    "            perm(a, i+1, n)\n",
    "            a[i], a[j] = a[j], a[i]\n",
    "\n",
    "string = input('문자열 입력 : ')\n",
    "N = len(string)\n",
    "s = []\n",
    "for i in range(N): s.append(string[i])\n",
    "perm(s, 0, N)\n"
   ]
  },
  {
   "cell_type": "code",
   "execution_count": 32,
   "metadata": {},
   "outputs": [
    {
     "name": "stdout",
     "output_type": "stream",
     "text": [
      "첫 번째 문자열 입력 : Oh, lame saint!\n",
      "두 번째 문자열 입력 : The Mona Lisa\n",
      "어구전철입니다.\n"
     ]
    }
   ],
   "source": [
    "# 어구 전철인지 판별\n",
    "\n",
    "def convertString(s):\n",
    "    s_ = s.lower()\n",
    "    s = ''\n",
    "    \n",
    "    for i in range(len(s_)):\n",
    "        if s_[i].isalpha():\n",
    "            s += s_[i]\n",
    "    \n",
    "    return s\n",
    "\n",
    "def isAnagram(s1, s2):\n",
    "    list1 = list(convertString(s1))\n",
    "    list2 = list(convertString(s2))\n",
    "    \n",
    "    if len(list1) != len(list2):\n",
    "        return False\n",
    "    \n",
    "    list1.sort()\n",
    "    list2.sort()\n",
    "    \n",
    "    for i in range(len(list1)):\n",
    "        if list1[i] != list2[i]:\n",
    "            return False\n",
    "            break\n",
    "    return True\n",
    "\n",
    "str1 = input('첫 번째 문자열 입력 : ')\n",
    "str2 = input('두 번째 문자열 입력 : ')\n",
    "\n",
    "result = isAnagram(str1, str2)\n",
    "if result:\n",
    "    print('어구전철입니다.')\n",
    "else:\n",
    "    print('어구전철이 아닙니다.')"
   ]
  },
  {
   "cell_type": "code",
   "execution_count": 37,
   "metadata": {},
   "outputs": [
    {
     "name": "stdout",
     "output_type": "stream",
     "text": [
      "텍스트 :  A lover asked his beloved,\n",
      "Do you love yourself more\n",
      "than you love me?\n",
      "The beloved replied,\n",
      "I have died to myself\n",
      "and I live for you.\n"
     ]
    }
   ],
   "source": [
    "# 파일 입출력 - 전체 읽어오기\n",
    "\n",
    "fin = open('input.txt','r')\n",
    "text = fin.read()\n",
    "print('텍스트 : ',text)"
   ]
  },
  {
   "cell_type": "code",
   "execution_count": 39,
   "metadata": {},
   "outputs": [
    {
     "name": "stdout",
     "output_type": "stream",
     "text": [
      "A lover asked his beloved,\n"
     ]
    }
   ],
   "source": [
    "# 파일 입력 - 한줄 읽어오기\n",
    "\n",
    "fin = open('input.txt','r')\n",
    "line = fin.readline()\n",
    "print(line, end=\"\")\n",
    "fin.close()"
   ]
  },
  {
   "cell_type": "code",
   "execution_count": 41,
   "metadata": {},
   "outputs": [
    {
     "name": "stdout",
     "output_type": "stream",
     "text": [
      "A lover asked his beloved,\n",
      "Do you love yourself more\n",
      "than you love me?\n"
     ]
    }
   ],
   "source": [
    "# 세줄만 읽어오기\n",
    "\n",
    "fin = open('input.txt','r')\n",
    "for i in range(3):\n",
    "    line = fin.readline()\n",
    "    print(line, end=\"\")"
   ]
  },
  {
   "cell_type": "code",
   "execution_count": 45,
   "metadata": {},
   "outputs": [
    {
     "name": "stdout",
     "output_type": "stream",
     "text": [
      "Do you love yourself more\n",
      "than you love me?\n",
      "The beloved replied,\n",
      "I have died to myself\n",
      "and I live for you."
     ]
    }
   ],
   "source": [
    "# readline() 메소드로 모두 읽기\n",
    "\n",
    "fin = open('input.txt','r')\n",
    "line = fin.readline()\n",
    "while line:\n",
    "    line = fin.readline()\n",
    "    print(line, end=\"\")"
   ]
  },
  {
   "cell_type": "code",
   "execution_count": 48,
   "metadata": {},
   "outputs": [
    {
     "name": "stdout",
     "output_type": "stream",
     "text": [
      "섭씨 온도 : 0, 화씨 온도 : 32\n",
      "섭씨 온도 : 10, 화씨 온도 : 50\n",
      "섭씨 온도 : 20, 화씨 온도 : 68\n",
      "섭씨 온도 : 30, 화씨 온도 : 86\n",
      "섭씨 온도 : 40, 화씨 온도 : 104\n",
      "섭씨 온도 : 50, 화씨 온도 : 122\n"
     ]
    }
   ],
   "source": [
    "# 파일 출력\n",
    "\n",
    "fout = open('output.txt','w')\n",
    "for c in range(0, 51, 10):\n",
    "    f = int(c*9/5 + 32)\n",
    "    out = '섭씨 온도 : %d, 화씨 온도 : %d\\n'%(c,f)\n",
    "    fout.write(out)\n",
    "fout.close()\n",
    "\n",
    "fin = open('output.txt','r')\n",
    "line = fin.readline()\n",
    "while line:\n",
    "    print(line, end='')\n",
    "    line = fin.readline()\n",
    "fin.close()"
   ]
  },
  {
   "cell_type": "code",
   "execution_count": 13,
   "metadata": {},
   "outputs": [
    {
     "name": "stdout",
     "output_type": "stream",
     "text": [
      "Input file name : output\n",
      "[['섭씨', '온도', ':', '0,', '화씨', '온도', ':'], ['섭씨', '온도', ':', '10,', '화씨', '온도', ':'], ['섭씨', '온도', ':', '20,', '화씨', '온도', ':'], ['섭씨', '온도', ':', '30,', '화씨', '온도', ':'], ['섭씨', '온도', ':', '40,', '화씨', '온도', ':'], ['섭씨', '온도', ':', '50,', '화씨', '온도', ':']]\n"
     ]
    }
   ],
   "source": [
    "# 파일 읽어와서 단어별로 리스트 만들기\n",
    "\n",
    "def makeList(x):\n",
    "    fin = open(x+'.txt','r')\n",
    "    \n",
    "    line = fin.readline()\n",
    "    mList = []\n",
    "    while line:\n",
    "        mList.append(line.split(' ')[:-1])\n",
    "        line = fin.readline()\n",
    "    \n",
    "    fin.close()\n",
    "    return mList\n",
    "\n",
    "fileName = input('Input file name : ')\n",
    "result = makeList(fileName)\n",
    "print(result)"
   ]
  }
 ],
 "metadata": {
  "kernelspec": {
   "display_name": "Python 3",
   "language": "python",
   "name": "python3"
  },
  "language_info": {
   "codemirror_mode": {
    "name": "ipython",
    "version": 3
   },
   "file_extension": ".py",
   "mimetype": "text/x-python",
   "name": "python",
   "nbconvert_exporter": "python",
   "pygments_lexer": "ipython3",
   "version": "3.6.3"
  }
 },
 "nbformat": 4,
 "nbformat_minor": 2
}
