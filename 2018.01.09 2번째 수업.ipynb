{
 "cells": [
  {
   "cell_type": "markdown",
   "metadata": {},
   "source": [
    "### 18.01.09 2번째 수업"
   ]
  },
  {
   "cell_type": "markdown",
   "metadata": {},
   "source": [
    "알고리즘 설계 시 중요 단계\n",
    "---\n",
    "- 몇개의 변수를 사용할 것인가\n",
    "- 변수를 어떻게 초기화 할 것인가(입력, 초기화)\n",
    "- 언제 종료할 것인가!"
   ]
  },
  {
   "cell_type": "markdown",
   "metadata": {},
   "source": [
    "최대공약수 구하는 문제\n",
    "---\n",
    "- 변수 : a, b, i\n",
    "- 종료조건 : i<=a and i<=b\n",
    "- 공약수 : (a mod i = 0) and (b mod i = 0)\n",
    "- 작은 수를 기준으로"
   ]
  },
  {
   "cell_type": "code",
   "execution_count": 6,
   "metadata": {},
   "outputs": [
    {
     "name": "stdout",
     "output_type": "stream",
     "text": [
      "a=20\n",
      "b=40\n",
      "최대공약수 : 20\n"
     ]
    }
   ],
   "source": [
    "# 최대공약수 구하기\n",
    "\n",
    "a = int(input('a='))\n",
    "b = int(input('b='))\n",
    "\n",
    "i = 1\n",
    "gcd = 0\n",
    "while i<=a and i<=b:\n",
    "    if a % i == 0 and b % i == 0:\n",
    "        gcd = i\n",
    "    i += 1\n",
    "    \n",
    "print('최대공약수 :',gcd)"
   ]
  },
  {
   "cell_type": "code",
   "execution_count": 1,
   "metadata": {},
   "outputs": [
    {
     "name": "stdout",
     "output_type": "stream",
     "text": [
      "a=12\n",
      "b=18\n",
      "12 와 18 의 최소 공배수= 36\n"
     ]
    }
   ],
   "source": [
    "# 두개의 자연수 a, b의 최소공배수를 출력하는 프로그램\n",
    "\n",
    "a = int(input('a='))\n",
    "b = int(input('b='))\n",
    "\n",
    "m_a = a\n",
    "m_b = b\n",
    "\n",
    "while m_a != m_b:\n",
    "    if m_a < m_b:\n",
    "        m_a += a\n",
    "    else:\n",
    "        m_b += b\n",
    "\n",
    "print(a,'와',b,'의 최소 공배수 =',m_a)"
   ]
  },
  {
   "cell_type": "code",
   "execution_count": 7,
   "metadata": {},
   "outputs": [
    {
     "name": "stdout",
     "output_type": "stream",
     "text": [
      "a=12\n",
      "b=18\n",
      "c=24\n",
      "최소공배수 : 72\n"
     ]
    }
   ],
   "source": [
    "# 세개의 자연수 a, b, c의 최소공배수를 출력하는 프로그램\n",
    "\n",
    "a = int(input('a='))\n",
    "b = int(input('b='))\n",
    "c = int(input('c='))\n",
    "\n",
    "m_a = a\n",
    "m_b = b\n",
    "m_c = c\n",
    "\n",
    "while m_a != m_b or m_b != m_c:\n",
    "    if m_a < m_b:\n",
    "        if m_a < m_c:\n",
    "            m_a += a\n",
    "        else:\n",
    "            m_c += c\n",
    "    else:\n",
    "        if m_b < m_c:\n",
    "            m_b += b\n",
    "        else:\n",
    "            m_c += c\n",
    "\n",
    "print('최소공배수 :',m_a)"
   ]
  },
  {
   "cell_type": "code",
   "execution_count": 27,
   "metadata": {},
   "outputs": [
    {
     "name": "stdout",
     "output_type": "stream",
     "text": [
      "a=100\n",
      "[1, 2, 4, 5, 10, 20, 25, 50, 100]\n",
      "100 은(는) 완전수가 아닙니다.\n"
     ]
    }
   ],
   "source": [
    "# 자연수 a가 완전수인지 판별 (내가 한 것)\n",
    "\n",
    "a = int(input('a='))\n",
    "\n",
    "a_divisor = [i for i in range(1,a//2+1) if a % i == 0]\n",
    "a_divisor.append(a)\n",
    "print(a_divisor)\n",
    "\n",
    "sum=0\n",
    "for i in range(len(a_divisor)-1):\n",
    "    sum += a_divisor[i]\n",
    "\n",
    "if a_divisor[-1] == sum:\n",
    "    print(a,'은(는) 완전수입니다.')\n",
    "else:\n",
    "    print(a,'은(는) 완전수가 아닙니다.')"
   ]
  },
  {
   "cell_type": "code",
   "execution_count": 26,
   "metadata": {},
   "outputs": [
    {
     "name": "stdout",
     "output_type": "stream",
     "text": [
      "a=6\n",
      "6 은(는) 완전수입니다.\n"
     ]
    }
   ],
   "source": [
    "# 자연수 a가 완전수인지 판별 (순서도 따라서 작성한 것)\n",
    "\n",
    "a = int(input('a='))\n",
    "\n",
    "sum = 0\n",
    "i = 1\n",
    "while i <= a/2: # a/2 이후로는 약수가 될 가능성이 전혀 없음.\n",
    "    if a % i == 0:\n",
    "        sum += i\n",
    "    i += 1\n",
    "\n",
    "if sum == a:\n",
    "    print(a,'은(는) 완전수입니다.')\n",
    "else:\n",
    "    print(a,'은(는) 완전수가 아닙니다.')"
   ]
  },
  {
   "cell_type": "code",
   "execution_count": 10,
   "metadata": {},
   "outputs": [
    {
     "name": "stdout",
     "output_type": "stream",
     "text": [
      "N=10000\n",
      "6 28 496 8128 "
     ]
    }
   ],
   "source": [
    "# 입력받은 N까지 자연수 중 완전수 출력\n",
    "\n",
    "while True:\n",
    "    N = int(input('N='))\n",
    "    if N < 2:\n",
    "        print(\"N은 2보다 큰 자연수여야 합니다.\")\n",
    "    else:\n",
    "        break\n",
    "\n",
    "j = 1\n",
    "while j <= N:\n",
    "    sum = 0\n",
    "    i = 1\n",
    "    while i <= j/2: # a/2 이후로는 약수가 될 가능성이 전혀 없음.\n",
    "        if j % i == 0:\n",
    "            sum += i\n",
    "        i += 1\n",
    "\n",
    "    if sum == j:\n",
    "        print(j,end=' ')\n",
    "    j += 1"
   ]
  }
 ],
 "metadata": {
  "kernelspec": {
   "display_name": "Python 3",
   "language": "python",
   "name": "python3"
  },
  "language_info": {
   "codemirror_mode": {
    "name": "ipython",
    "version": 3
   },
   "file_extension": ".py",
   "mimetype": "text/x-python",
   "name": "python",
   "nbconvert_exporter": "python",
   "pygments_lexer": "ipython3",
   "version": "3.6.3"
  }
 },
 "nbformat": 4,
 "nbformat_minor": 2
}
