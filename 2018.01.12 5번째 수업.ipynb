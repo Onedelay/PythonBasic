{
 "cells": [
  {
   "cell_type": "markdown",
   "metadata": {},
   "source": [
    "- ord() : char to ascii\n",
    "> ord(' ')<br>\n",
    "> 32<br>\n",
    "> ord('A')<br>\n",
    "> 65<br>\n",
    "\n",
    "- chr() : ascii to char\n",
    "> chr(32)<br>\n",
    "> ''<br>\n",
    "> chr(65)<br>\n",
    "> 'A'"
   ]
  },
  {
   "cell_type": "code",
   "execution_count": 4,
   "metadata": {},
   "outputs": [
    {
     "name": "stdout",
     "output_type": "stream",
     "text": [
      "N = 100\n",
      "[17, 38, 19, 42, 32, 89, 20, 94, 47, 93, 13, 18, 69, 54, 15, 2, 3, 16, 18, 44, 15, 61, 60, 33, 14, 69, 61, 3, 85, 51, 94, 6, 2, 100, 31, 59, 93, 74, 65, 51, 89, 67, 8, 58, 57, 30, 43, 51, 45, 24, 91, 87, 99, 24, 52, 15, 66, 9, 30, 80, 42, 12, 10, 46, 32, 38, 10, 84, 34, 85, 39, 53, 90, 67, 59, 84, 10, 89, 76, 51, 33, 86, 68, 42, 99, 100, 52, 76, 75, 72, 45, 50, 18, 91, 46, 83, 4, 25, 66, 23]\n"
     ]
    }
   ],
   "source": [
    "import random\n",
    "\n",
    "N = int(input('N = '))\n",
    "\n",
    "sList = [random.randint(1,100) for i in range(N)]\n",
    "\n",
    "print(sList)"
   ]
  },
  {
   "cell_type": "code",
   "execution_count": 21,
   "metadata": {},
   "outputs": [
    {
     "name": "stdout",
     "output_type": "stream",
     "text": [
      "N = 50\n",
      "정렬 전 =  [9, 62, 1, 17, 73, 54, 86, 92, 67, 49, 5, 25, 79, 92, 91, 37, 23, 96, 15, 24, 57, 21, 92, 97, 96, 23, 43, 33, 9, 60, 59, 44, 82, 84, 82, 75, 27, 37, 29, 92, 87, 48, 81, 35, 71, 78, 44, 95, 57, 80]\n",
      "정렬 후 =  [1, 5, 9, 9, 15, 17, 21, 23, 23, 24, 25, 27, 29, 33, 35, 37, 37, 43, 44, 44, 48, 49, 54, 57, 57, 59, 60, 62, 67, 71, 73, 75, 78, 79, 80, 81, 82, 82, 84, 86, 87, 91, 92, 92, 92, 92, 95, 96, 96, 97]\n"
     ]
    }
   ],
   "source": [
    "# 버블 정렬\n",
    "\n",
    "# numbers = [int(a) for a in input('정렬할 수 입력 : ').split()]\n",
    "\n",
    "N = int(input('N = '))\n",
    "numbers = [random.randint(1,100) for i in range(N)]\n",
    "\n",
    "print('정렬 전 = ',numbers)\n",
    "\n",
    "for i in range(len(numbers)-1,0,-1):\n",
    "    for j in range(i):\n",
    "        if numbers[j] > numbers[j+1]:\n",
    "            numbers[j], numbers[j+1] = numbers[j+1], numbers[j]\n",
    "\n",
    "print('정렬 후 = ',numbers)"
   ]
  },
  {
   "cell_type": "code",
   "execution_count": 65,
   "metadata": {},
   "outputs": [
    {
     "name": "stdout",
     "output_type": "stream",
     "text": [
      "수 입력 : 50 70 90 70\n",
      "평균=70.00, 분산=200.00, 표준편차=14.14\n"
     ]
    }
   ],
   "source": [
    "import math\n",
    "\n",
    "numbers = [int(a) for a in input('수 입력 : ').split()]\n",
    "n = len(numbers)\n",
    "\n",
    "# 평균\n",
    "avg = sum(numbers)/n\n",
    "\n",
    "# 분산\n",
    "tmp = [pow(abs(a - avg),2) for a in numbers]\n",
    "dist = sum(tmp)/n\n",
    "\n",
    "# 표준편차\n",
    "std = math.sqrt(sum(tmp)/n)\n",
    "\n",
    "print('평균=%.2f, 분산=%.2f, 표준편차=%.2f'%(avg,dist,std))\n"
   ]
  },
  {
   "cell_type": "code",
   "execution_count": 52,
   "metadata": {},
   "outputs": [
    {
     "name": "stdout",
     "output_type": "stream",
     "text": [
      "텍스트 입력 = A lover asked his beloved, Do you love yourself more than you love me?\n",
      "패턴 입력 = can\n",
      "0\n",
      "일치하는 패턴이 없음\n"
     ]
    }
   ],
   "source": [
    "# 스트링 패턴 검색\n",
    "\n",
    "def stringSearch(text, pattern):\n",
    "    textLen = len(text)\n",
    "    patternLen = len(pattern)\n",
    "    \n",
    "    cnt = 0\n",
    "    \n",
    "    i=0\n",
    "    #for i in range(textLen):\n",
    "    while i < textLen:\n",
    "        for j in range(patternLen):\n",
    "            if text[i] == pattern[j]:\n",
    "                #print('%d-%c = %d-%c'%(i,text[i],j,pattern[j]))\n",
    "                i += 1\n",
    "                cnt += 1\n",
    "            else:\n",
    "                #print('%d-%c != %d-%c'%(i,text[i],j,pattern[j]))\n",
    "                cnt = 0\n",
    "                i += 1\n",
    "                break\n",
    "        if patternLen == cnt:\n",
    "            break\n",
    "                \n",
    "    if patternLen == cnt:\n",
    "        print(\"패턴을 처음 발견한 위치 : %d\"%(i-cnt))\n",
    "    else:\n",
    "        print(\"일치하는 패턴이 없음\")\n",
    "        \n",
    "\n",
    "text = input('텍스트 입력 = ')\n",
    "pattern = input('패턴 입력 = ')\n",
    "stringSearch(text, pattern)"
   ]
  },
  {
   "cell_type": "code",
   "execution_count": null,
   "metadata": {
    "collapsed": true
   },
   "outputs": [],
   "source": []
  }
 ],
 "metadata": {
  "kernelspec": {
   "display_name": "Python 3",
   "language": "python",
   "name": "python3"
  },
  "language_info": {
   "codemirror_mode": {
    "name": "ipython",
    "version": 3
   },
   "file_extension": ".py",
   "mimetype": "text/x-python",
   "name": "python",
   "nbconvert_exporter": "python",
   "pygments_lexer": "ipython3",
   "version": "3.6.3"
  }
 },
 "nbformat": 4,
 "nbformat_minor": 2
}
